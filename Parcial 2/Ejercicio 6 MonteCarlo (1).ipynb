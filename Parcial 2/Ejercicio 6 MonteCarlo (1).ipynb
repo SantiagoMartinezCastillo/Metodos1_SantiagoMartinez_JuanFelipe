{
 "cells": [
  {
   "cell_type": "code",
   "execution_count": 1,
   "id": "7f42ff84",
   "metadata": {},
   "outputs": [],
   "source": [
    "%matplotlib notebook\n",
    "import numpy as np\n",
    "import matplotlib.pyplot as plt\n",
    "from mpl_toolkits.mplot3d import axes3d\n",
    "import sympy as sym\n",
    "from scipy.integrate import quad\n",
    "from scipy.integrate import dblquad\n",
    "from tqdm import tqdm"
   ]
  },
  {
   "cell_type": "code",
   "execution_count": 2,
   "id": "0faa8c36",
   "metadata": {},
   "outputs": [],
   "source": [
    "def CreateSphere(N,R=1):\n",
    "    \n",
    "    Points = np.zeros((N,3))\n",
    "        \n",
    "    for i in tqdm(range(N)):\n",
    "        \n",
    "        phi = np.random.uniform(0,2*np.pi)\n",
    "        u = np.random.rand()\n",
    "        r = R*u**(1/3)\n",
    "        costheta = np.random.uniform(-1,1)\n",
    "        theta = np.arccos(costheta)\n",
    "        \n",
    "        Points[i] = [r*np.cos(phi)*np.sin(theta),r*np.sin(phi)*np.sin(theta),r*np.cos(theta)]\n",
    "        \n",
    "    return Points"
   ]
  },
  {
   "cell_type": "code",
   "execution_count": 3,
   "id": "9664f092",
   "metadata": {},
   "outputs": [
    {
     "name": "stderr",
     "output_type": "stream",
     "text": [
      "100%|██████████| 1000000/1000000 [00:15<00:00, 66007.18it/s]\n"
     ]
    }
   ],
   "source": [
    "Sphere = CreateSphere(1000000)"
   ]
  },
  {
   "cell_type": "code",
   "execution_count": 4,
   "id": "1c8df7db",
   "metadata": {},
   "outputs": [],
   "source": [
    "def fx(y, z):\n",
    "    return np.square(y) + np.square(z)\n",
    "\n",
    "def fy(x, z):\n",
    "    return np.square(x) + np.square(z)\n",
    "\n",
    "def fz(x, y):\n",
    "    return np.square(x) + np.square(y)"
   ]
  },
  {
   "cell_type": "code",
   "execution_count": 5,
   "id": "900c2688",
   "metadata": {},
   "outputs": [],
   "source": [
    "def Ix(Sphere):\n",
    "    suma = 0\n",
    "    for p in Sphere:\n",
    "        suma += fx(p[1], p[2])\n",
    "    return (1./len(Sphere))*suma\n",
    "\n",
    "def Iy(Sphere):\n",
    "    suma = 0\n",
    "    for p in Sphere:\n",
    "        suma += fx(p[0], p[2])\n",
    "    return (1./len(Sphere))*suma\n",
    "\n",
    "def Iz(Sphere):\n",
    "    suma = 0\n",
    "    for p in Sphere:\n",
    "        suma += fx(p[0], p[1])\n",
    "    return (1./len(Sphere))*suma"
   ]
  },
  {
   "cell_type": "code",
   "execution_count": 6,
   "id": "eb6a82d5",
   "metadata": {},
   "outputs": [
    {
     "data": {
      "text/plain": [
       "0.40005382505157694"
      ]
     },
     "execution_count": 6,
     "metadata": {},
     "output_type": "execute_result"
    }
   ],
   "source": [
    "Ix(Sphere)"
   ]
  },
  {
   "cell_type": "code",
   "execution_count": 7,
   "id": "6bde35f8",
   "metadata": {},
   "outputs": [
    {
     "data": {
      "text/plain": [
       "0.4003725653410867"
      ]
     },
     "execution_count": 7,
     "metadata": {},
     "output_type": "execute_result"
    }
   ],
   "source": [
    "Iy(Sphere)"
   ]
  },
  {
   "cell_type": "code",
   "execution_count": 8,
   "id": "abf9cc30",
   "metadata": {},
   "outputs": [
    {
     "data": {
      "text/plain": [
       "0.39979006756317964"
      ]
     },
     "execution_count": 8,
     "metadata": {},
     "output_type": "execute_result"
    }
   ],
   "source": [
    "Iz(Sphere)"
   ]
  },
  {
   "cell_type": "code",
   "execution_count": 9,
   "id": "5023fd6a",
   "metadata": {},
   "outputs": [],
   "source": [
    "def fxy(x, y):\n",
    "    return x*y"
   ]
  },
  {
   "cell_type": "code",
   "execution_count": 10,
   "id": "5501aa34",
   "metadata": {},
   "outputs": [],
   "source": [
    "def Ixy(Sphere):\n",
    "    suma = 0\n",
    "    for p in Sphere:\n",
    "        suma += fxy(p[0], p[1])\n",
    "    return (-1./len(Sphere))*suma"
   ]
  },
  {
   "cell_type": "code",
   "execution_count": 11,
   "id": "032b9fcd",
   "metadata": {},
   "outputs": [
    {
     "data": {
      "text/plain": [
       "0.000450442920573746"
      ]
     },
     "execution_count": 11,
     "metadata": {},
     "output_type": "execute_result"
    }
   ],
   "source": [
    "Ixy(Sphere)"
   ]
  },
  {
   "cell_type": "markdown",
   "id": "21e79767",
   "metadata": {},
   "source": [
    "Con los datos anteriores podemos llegar a la conclusión que la esfera tiene simetría rotacional para todos sus ejes. Podemos llegar a esta conclusión porque su momento de Inercia en $I_{xx}$, $I_{yy}$ y $I_{zz}$ es igual. Para que esto suceda tiene que haber una simetría en la distribución de masa con respecto a cualquier eje de giro de la esfera, como establecimos que la esfera tiene una densidad constante, esto obliga a que la geometría rotacional de la esfera sea simetrica."
   ]
  },
  {
   "cell_type": "code",
   "execution_count": null,
   "id": "99a4a861",
   "metadata": {},
   "outputs": [],
   "source": []
  }
 ],
 "metadata": {
  "kernelspec": {
   "display_name": "Python 3",
   "language": "python",
   "name": "python3"
  },
  "language_info": {
   "codemirror_mode": {
    "name": "ipython",
    "version": 3
   },
   "file_extension": ".py",
   "mimetype": "text/x-python",
   "name": "python",
   "nbconvert_exporter": "python",
   "pygments_lexer": "ipython3",
   "version": "3.8.8"
  }
 },
 "nbformat": 4,
 "nbformat_minor": 5
}
