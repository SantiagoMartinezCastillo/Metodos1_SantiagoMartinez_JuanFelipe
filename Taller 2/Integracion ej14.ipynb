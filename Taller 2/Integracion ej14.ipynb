{
 "cells": [
  {
   "cell_type": "code",
   "execution_count": 18,
   "id": "ce90ace9",
   "metadata": {},
   "outputs": [],
   "source": [
    "import numpy as np\n",
    "import sympy as sym"
   ]
  },
  {
   "cell_type": "code",
   "execution_count": 19,
   "id": "30b09b66",
   "metadata": {},
   "outputs": [],
   "source": [
    "x = sym.Symbol('x',real=True) #los polnomios de leguerre\n",
    "P0 = 1\n",
    "P1 = x\n",
    "P2 = 1/2*(3*x**2-1)"
   ]
  },
  {
   "cell_type": "code",
   "execution_count": 20,
   "id": "e3bea253",
   "metadata": {},
   "outputs": [],
   "source": [
    "#planteamos una matriz con coeficientes que, usando las bases laguerre solucionan los coeficientes del polinomio\n",
    "Combinatoria = np.array([[1,0,-1/2],[0,1,0],[0,0,3/2]])\n",
    "Coeficientes = np.array([3,5,1])\n",
    "sol1,sol2,sol3 = np.linalg.solve(Combinatoria,Coeficientes)"
   ]
  },
  {
   "cell_type": "code",
   "execution_count": 21,
   "id": "80bdc059",
   "metadata": {},
   "outputs": [],
   "source": [
    "eq = sol1*P0+sol2*P1+sol3*P2"
   ]
  },
  {
   "cell_type": "code",
   "execution_count": 22,
   "id": "3dfe1799",
   "metadata": {},
   "outputs": [
    {
     "data": {
      "text/latex": [
       "$\\displaystyle 1.0 x^{2} + 5.0 x + 3.0$"
      ],
      "text/plain": [
       "1.0*x**2 + 5.0*x + 3.0"
      ]
     },
     "execution_count": 22,
     "metadata": {},
     "output_type": "execute_result"
    }
   ],
   "source": [
    "eq"
   ]
  },
  {
   "cell_type": "code",
   "execution_count": 23,
   "id": "ee0c5ec8",
   "metadata": {},
   "outputs": [
    {
     "data": {
      "text/plain": [
       "'\\nPor lo que podemos escribir el polinomio con la base de laguerre como\\n'"
      ]
     },
     "execution_count": 23,
     "metadata": {},
     "output_type": "execute_result"
    }
   ],
   "source": [
    "\"\"\"\n",
    "Por lo que podemos escribir el polinomio con la base de laguerre como\n",
    "\"\"\""
   ]
  },
  {
   "cell_type": "code",
   "execution_count": 24,
   "id": "8923d221",
   "metadata": {},
   "outputs": [],
   "source": [
    "p0 = sym.Symbol('p0',real=True)\n",
    "p1 = sym.Symbol('p1',real=True)\n",
    "p2 = sym.Symbol('p2',real=True)\n",
    "solBase = p0*sol1+p1*sol2+p2*sol3"
   ]
  },
  {
   "cell_type": "code",
   "execution_count": 25,
   "id": "4c7ff812",
   "metadata": {},
   "outputs": [
    {
     "data": {
      "text/latex": [
       "$\\displaystyle 3.33333333333333 p_{0} + 5.0 p_{1} + 0.666666666666667 p_{2}$"
      ],
      "text/plain": [
       "3.33333333333333*p0 + 5.0*p1 + 0.666666666666667*p2"
      ]
     },
     "execution_count": 25,
     "metadata": {},
     "output_type": "execute_result"
    }
   ],
   "source": [
    "solBase"
   ]
  },
  {
   "cell_type": "code",
   "execution_count": null,
   "id": "94cef40b",
   "metadata": {},
   "outputs": [],
   "source": []
  }
 ],
 "metadata": {
  "kernelspec": {
   "display_name": "Python 3 (ipykernel)",
   "language": "python",
   "name": "python3"
  },
  "language_info": {
   "codemirror_mode": {
    "name": "ipython",
    "version": 3
   },
   "file_extension": ".py",
   "mimetype": "text/x-python",
   "name": "python",
   "nbconvert_exporter": "python",
   "pygments_lexer": "ipython3",
   "version": "3.9.13"
  }
 },
 "nbformat": 4,
 "nbformat_minor": 5
}
