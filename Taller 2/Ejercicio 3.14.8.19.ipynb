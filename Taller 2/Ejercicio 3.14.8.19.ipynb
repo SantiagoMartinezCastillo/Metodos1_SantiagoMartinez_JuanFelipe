{
 "cells": [
  {
   "cell_type": "code",
   "execution_count": 1,
   "id": "1ecde187",
   "metadata": {},
   "outputs": [],
   "source": [
    "import numpy as np\n",
    "import pandas as pd\n",
    "import sympy as sym\n",
    "import matplotlib.pyplot as plt\n",
    "from tqdm import tqdm\n",
    "import urllib.request"
   ]
  },
  {
   "cell_type": "code",
   "execution_count": 2,
   "id": "2a9a1c79",
   "metadata": {},
   "outputs": [],
   "source": [
    "def f(x, T, BP_p):\n",
    "    \n",
    "    return (np.tanh(np.sqrt((x**2) + (BP_p**2))*(300/(2*T)))/(np.sqrt((x**2) + (BP_p**2))))"
   ]
  },
  {
   "cell_type": "code",
   "execution_count": 3,
   "id": "d48c2c0c",
   "metadata": {},
   "outputs": [],
   "source": [
    "def gauss_legendre_integrate(f,x_gauss,W, i):\n",
    "    return np.sum(W*f(x_gauss, i, 0.))"
   ]
  },
  {
   "cell_type": "code",
   "execution_count": 4,
   "id": "ad7bed8a",
   "metadata": {},
   "outputs": [],
   "source": [
    "x_gauss,W = np.polynomial.legendre.leggauss(50)"
   ]
  },
  {
   "cell_type": "code",
   "execution_count": 5,
   "id": "0fa35272",
   "metadata": {},
   "outputs": [
    {
     "data": {
      "text/plain": [
       "array([ 1.    ,  1.0001,  1.0002, ..., 19.9998, 19.9999, 20.    ])"
      ]
     },
     "execution_count": 5,
     "metadata": {},
     "output_type": "execute_result"
    }
   ],
   "source": [
    "X = np.linspace(1, 20, 190001)\n",
    "X"
   ]
  },
  {
   "cell_type": "code",
   "execution_count": 6,
   "id": "92938a8d",
   "metadata": {},
   "outputs": [
    {
     "name": "stderr",
     "output_type": "stream",
     "text": [
      " 59%|█████▊    | 111336/190001 [00:02<00:01, 51722.65it/s]\n"
     ]
    },
    {
     "data": {
      "text/plain": [
       "12.133600000000001"
      ]
     },
     "execution_count": 6,
     "metadata": {},
     "output_type": "execute_result"
    }
   ],
   "source": [
    "stop_num = 1./0.3\n",
    "\n",
    "for i in tqdm(range(len(X))):\n",
    "    I = 0.5*gauss_legendre_integrate(f, x_gauss, W, X[i])\n",
    "    \n",
    "    diff = np.abs(I-stop_num)\n",
    "    if diff < 1e-4:\n",
    "        Tc = X[i]\n",
    "        break\n",
    "\n",
    "Tc"
   ]
  }
 ],
 "metadata": {
  "kernelspec": {
   "display_name": "Python 3 (ipykernel)",
   "language": "python",
   "name": "python3"
  },
  "language_info": {
   "codemirror_mode": {
    "name": "ipython",
    "version": 3
   },
   "file_extension": ".py",
   "mimetype": "text/x-python",
   "name": "python",
   "nbconvert_exporter": "python",
   "pygments_lexer": "ipython3",
   "version": "3.9.13"
  }
 },
 "nbformat": 4,
 "nbformat_minor": 5
}
