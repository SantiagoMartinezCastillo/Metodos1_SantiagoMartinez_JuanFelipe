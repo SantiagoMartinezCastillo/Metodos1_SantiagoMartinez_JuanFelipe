{
 "cells": [
  {
   "cell_type": "code",
   "execution_count": 89,
   "id": "ce34d441",
   "metadata": {},
   "outputs": [],
   "source": [
    "import urllib.request\n",
    "import numpy as np\n",
    "import matplotlib.pyplot as plt\n",
    "import scipy.integrate as integrate\n",
    "from matplotlib import rc\n",
    "import sympy as sym"
   ]
  },
  {
   "cell_type": "code",
   "execution_count": 90,
   "id": "6f8ed619",
   "metadata": {},
   "outputs": [
    {
     "data": {
      "text/latex": [
       "$\\displaystyle \\frac{1.33 \\left(x - 2\\right)}{\\sqrt{\\left(x - 2\\right)^{2} + 4}} + \\frac{x + 3}{\\sqrt{\\left(x + 3\\right)^{2} + 4}}$"
      ],
      "text/plain": [
       "1.33*(x - 2)/sqrt((x - 2)**2 + 4) + (x + 3)/sqrt((x + 3)**2 + 4)"
      ]
     },
     "execution_count": 90,
     "metadata": {},
     "output_type": "execute_result"
    }
   ],
   "source": [
    "T = np.array([-3,2])\n",
    "R = np.array([2,-2])\n",
    "\n",
    "def func(x):\n",
    "    t = np.sqrt((x-T[0])**2+T[1]**2)+1.33*np.sqrt((x-R[0])**2+R[1]**2)\n",
    "    return t\n",
    "\n",
    "x = sym.Symbol('x',real=True)\n",
    "funcImp = sym.sqrt((x-T[0])**2+T[1]**2)+1.33*sym.sqrt((x-R[0])**2+R[1]**2)\n",
    "funcImp\n",
    "\n",
    "dx = sym.diff(funcImp)\n",
    "ddx = sym.diff(dx)\n",
    "\n",
    "df = sym.lambdify([x],dx,'numpy')\n",
    "ddf = sym.lambdify([x],ddx,'numpy')\n",
    "\n",
    "dx"
   ]
  },
  {
   "cell_type": "code",
   "execution_count": 91,
   "id": "17f094ba",
   "metadata": {},
   "outputs": [],
   "source": [
    "X = np.linspace(-5,5,1000)\n",
    "Y = func(X)"
   ]
  },
  {
   "cell_type": "code",
   "execution_count": 92,
   "id": "7fd121ee",
   "metadata": {
    "scrolled": true
   },
   "outputs": [
    {
     "data": {
      "text/plain": [
       "[<matplotlib.lines.Line2D at 0x190bcad5610>]"
      ]
     },
     "execution_count": 92,
     "metadata": {},
     "output_type": "execute_result"
    },
    {
     "data": {
      "image/png": "[encoded data removed]",
      "text/plain": [
       "<Figure size 640x480 with 1 Axes>"
      ]
     },
     "metadata": {},
     "output_type": "display_data"
    }
   ],
   "source": [
    "plt.plot(X,Y)"
   ]
  },
  {
   "cell_type": "code",
   "execution_count": 93,
   "id": "585b6a6f",
   "metadata": {},
   "outputs": [
    {
     "data": {
      "text/plain": [
       "'\\nCualitativamente, podemos ver que el minimo se encuentra aproximadamente en 0.3\\n'"
      ]
     },
     "execution_count": 93,
     "metadata": {},
     "output_type": "execute_result"
    }
   ],
   "source": [
    "\"\"\"\n",
    "Cualitativamente, podemos ver que el minimo se encuentra aproximadamente en 0.3\n",
    "\"\"\""
   ]
  },
  {
   "cell_type": "code",
   "execution_count": 94,
   "id": "4a11c883",
   "metadata": {},
   "outputs": [
    {
     "name": "stdout",
     "output_type": "stream",
     "text": [
      "0.31690575717257286\n"
     ]
    }
   ],
   "source": [
    "def GetNewtonRaphson(f,df,xn,itmax = 100, precision=1e-5):\n",
    "    \n",
    "    error = 1\n",
    "    it = 0\n",
    "    \n",
    "    while error > precision and it <= itmax:\n",
    "        \n",
    "        try:\n",
    "            \n",
    "            xn1 = xn - f(xn)/df(xn)\n",
    "            \n",
    "            error = np.abs(f(xn)/df(xn))\n",
    "            \n",
    "            #print(error)\n",
    "            \n",
    "        except ZeroDivisionError:\n",
    "            \n",
    "            print('Division por cero')\n",
    "            \n",
    "        it += 1\n",
    "        xn = xn1\n",
    "    \n",
    "    if it == itmax:\n",
    "        False\n",
    "    else:\n",
    "        return xn\n",
    "    \n",
    "cordx = GetNewtonRaphson(df,ddf,1)\n",
    "\n",
    "print(cordx)\n",
    "\n",
    "\n",
    "cordPunto = [cordx,0]"
   ]
  },
  {
   "cell_type": "code",
   "execution_count": 95,
   "id": "9b9f0cd5",
   "metadata": {},
   "outputs": [],
   "source": [
    "distTpunto = np.array([abs(T[0])+cordPunto[0],T[1]])\n",
    "distRpunto = np.array([abs(R[0])-cordPunto[0],R[1]])"
   ]
  },
  {
   "cell_type": "code",
   "execution_count": 96,
   "id": "a8077cf0",
   "metadata": {},
   "outputs": [
    {
     "name": "stdout",
     "output_type": "stream",
     "text": [
      "1.0281946844603527 -0.6995662172277137\n"
     ]
    }
   ],
   "source": [
    "anguloIn = np.arctan(distTpunto[0]/distTpunto[1])\n",
    "anguloRef = np.arctan(distRpunto[0]/distRpunto[1])\n",
    "print(anguloIn,anguloRef)"
   ]
  },
  {
   "cell_type": "code",
   "execution_count": 97,
   "id": "a09662af",
   "metadata": {},
   "outputs": [
    {
     "data": {
      "text/plain": [
       "0.6995662172280103"
      ]
     },
     "execution_count": 97,
     "metadata": {},
     "output_type": "execute_result"
    }
   ],
   "source": [
    "anguloRef = np.arcsin(1*np.sin(anguloIn)/1.33)\n",
    "anguloRef"
   ]
  },
  {
   "cell_type": "code",
   "execution_count": 98,
   "id": "db2dd829",
   "metadata": {},
   "outputs": [
    {
     "name": "stdout",
     "output_type": "stream",
     "text": [
      "0.7518796992481203 0.7518796992481203\n"
     ]
    }
   ],
   "source": [
    "print(abs(1/1.33),abs(np.sin(anguloRef)/np.sin(anguloIn)))"
   ]
  },
  {
   "cell_type": "code",
   "execution_count": 99,
   "id": "d81f6392",
   "metadata": {},
   "outputs": [
    {
     "name": "stdout",
     "output_type": "stream",
     "text": [
      "Se cumple Snell :)\n"
     ]
    }
   ],
   "source": [
    "if round(1/1.33,6) == round(np.sin(anguloRef)/np.sin(anguloIn),6):\n",
    "    print(\"Se cumple Snell :)\")"
   ]
  },
  {
   "cell_type": "code",
   "execution_count": 100,
   "id": "d7901d4f",
   "metadata": {},
   "outputs": [
    {
     "data": {
      "text/plain": [
       "'\\nGracias al proceso computacional mostrado anteriormente, vemos que se cumple que la razón entre los indices de la refración\\nes igual a la razón de los senos del angulo de incidencia y el de refracción. De esta manera podemos ver que la ley de Snell\\nen efecto se cumple. Como nota adicional, podemos aclarar que los angulos dados están en radianes.\\n'"
      ]
     },
     "execution_count": 100,
     "metadata": {},
     "output_type": "execute_result"
    }
   ],
   "source": [
    "\"\"\"\n",
    "Gracias al proceso computacional mostrado anteriormente, vemos que se cumple que la razón entre los indices de la refración\n",
    "es igual a la razón de los senos del angulo de incidencia y el de refracción. De esta manera podemos ver que la ley de Snell\n",
    "en efecto se cumple. Como nota adicional, podemos aclarar que los angulos dados están en radianes.\n",
    "\"\"\""
   ]
  }
 ],
 "metadata": {
  "kernelspec": {
   "display_name": "Python 3 (ipykernel)",
   "language": "python",
   "name": "python3"
  },
  "language_info": {
   "codemirror_mode": {
    "name": "ipython",
    "version": 3
   },
   "file_extension": ".py",
   "mimetype": "text/x-python",
   "name": "python",
   "nbconvert_exporter": "python",
   "pygments_lexer": "ipython3",
   "version": "3.9.13"
  }
 },
 "nbformat": 4,
 "nbformat_minor": 5
}
