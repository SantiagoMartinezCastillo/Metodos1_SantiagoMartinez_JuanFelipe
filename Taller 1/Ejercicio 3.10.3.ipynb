{
 "cells": [
  {
   "cell_type": "code",
   "execution_count": 1,
   "id": "d542d7ad",
   "metadata": {},
   "outputs": [],
   "source": [
    "import numpy as np\n",
    "import matplotlib.pyplot as plt\n",
    "from matplotlib import rc"
   ]
  },
  {
   "cell_type": "code",
   "execution_count": 2,
   "id": "60a1fd12",
   "metadata": {},
   "outputs": [],
   "source": [
    "def Function(x):\n",
    "    \n",
    "    return 3*(x**5) + 5*(x**4) - x**3\n",
    "    #return x**2 + 3*x"
   ]
  },
  {
   "cell_type": "code",
   "execution_count": 3,
   "id": "0a9c81d0",
   "metadata": {},
   "outputs": [],
   "source": [
    "soporte_x =  np.linspace(-2., 1., 301)"
   ]
  },
  {
   "cell_type": "code",
   "execution_count": 4,
   "id": "d0d5b742",
   "metadata": {},
   "outputs": [
    {
     "data": {
      "image/png": "[encoded data removed]",
      "text/plain": [
       "<Figure size 432x288 with 1 Axes>"
      ]
     },
     "metadata": {
      "needs_background": "light"
     },
     "output_type": "display_data"
    },
    {
     "data": {
      "text/plain": [
       "<Figure size 720x720 with 0 Axes>"
      ]
     },
     "metadata": {},
     "output_type": "display_data"
    }
   ],
   "source": [
    "plt.plot(soporte_x, Function(soporte_x))\n",
    "plt.axhline(0, color=\"r\")\n",
    "plt.figure(figsize=(10,10))\n",
    "plt.show()"
   ]
  },
  {
   "cell_type": "code",
   "execution_count": 5,
   "id": "c4a0d7b0",
   "metadata": {},
   "outputs": [],
   "source": [
    "def Derivative(f,x,h=1e-4):\n",
    "    return (f(x+h)-f(x-h))/(2*h)"
   ]
  },
  {
   "cell_type": "code",
   "execution_count": 6,
   "id": "72dee0e8",
   "metadata": {},
   "outputs": [],
   "source": [
    "def GetNewtonRaphson(f,df,xn,itmax = 100, precision=1e-10):\n",
    "    \n",
    "    error = 1\n",
    "    it = 0\n",
    "    \n",
    "    while error > precision and it <= itmax:\n",
    "        \n",
    "        try:\n",
    "            \n",
    "            xn1 = xn - f(xn)/df(f,xn)\n",
    "            \n",
    "            error = np.abs(f(xn)/df(f,xn))\n",
    "            \n",
    "        except ZeroDivisionError:\n",
    "            \n",
    "            print('Division por cero')\n",
    "            \n",
    "        it += 1\n",
    "        xn = xn1\n",
    "    \n",
    "    if it == itmax:\n",
    "        return \"Not Found\"\n",
    "    else:\n",
    "        return xn"
   ]
  },
  {
   "cell_type": "code",
   "execution_count": 7,
   "id": "be7681ad",
   "metadata": {},
   "outputs": [],
   "source": [
    "def GetAllRootsInInterval(soporte_intervalo, f, df, Newton_Raphson, tolerancia=6):\n",
    "    \n",
    "    Roots = np.array([])\n",
    "    \n",
    "    x0 = soporte_intervalo[0]\n",
    "    \n",
    "    zero_f = Newton_Raphson(f, df, x0)\n",
    "        \n",
    "    if zero_f == \"Not Found\":\n",
    "        return Roots\n",
    "        \n",
    "    rzero_f = np.round(zero_f, tolerancia)\n",
    "    \n",
    "    Roots = np.append(Roots, rzero_f)\n",
    "    \n",
    "    \n",
    "    \n",
    "    for n in range(1, len(soporte_intervalo)-1):\n",
    "        \n",
    "        xn_1 = soporte_intervalo[n+1]\n",
    "        xn = soporte_intervalo[n]\n",
    "        \n",
    "        \n",
    "        dn_1 = df(f, xn_1)\n",
    "        dn = df(f, xn)\n",
    "\n",
    "            \n",
    "        if (f(xn) * f(xn_1)  <= 0.) or (dn * dn_1 <= 0.):\n",
    "            zero_f = Newton_Raphson(f, df, xn_1)\n",
    "            rzero_f = np.round(zero_f, tolerancia)\n",
    "            \n",
    "            same = False\n",
    "            \n",
    "            for root in Roots:\n",
    "                d = np.abs(root - rzero_f)\n",
    "                if d < 1e-5:\n",
    "                    same = True\n",
    "            \n",
    "            if not same and rzero_f not in Roots:\n",
    "                Roots = np.append(Roots, rzero_f)\n",
    "        \n",
    "    \n",
    "    Roots.sort()\n",
    "    \n",
    "    return Roots"
   ]
  },
  {
   "cell_type": "code",
   "execution_count": 8,
   "id": "3b890dc0",
   "metadata": {},
   "outputs": [
    {
     "data": {
      "text/plain": [
       "array([-1.847127,  0.      ,  0.18046 ])"
      ]
     },
     "execution_count": 8,
     "metadata": {},
     "output_type": "execute_result"
    }
   ],
   "source": [
    "roots = GetAllRootsInInterval(soporte_x, Function, Derivative, GetNewtonRaphson)\n",
    "roots"
   ]
  }
 ],
 "metadata": {
  "kernelspec": {
   "display_name": "Python 3",
   "language": "python",
   "name": "python3"
  },
  "language_info": {
   "codemirror_mode": {
    "name": "ipython",
    "version": 3
   },
   "file_extension": ".py",
   "mimetype": "text/x-python",
   "name": "python",
   "nbconvert_exporter": "python",
   "pygments_lexer": "ipython3",
   "version": "3.8.8"
  }
 },
 "nbformat": 4,
 "nbformat_minor": 5
}
