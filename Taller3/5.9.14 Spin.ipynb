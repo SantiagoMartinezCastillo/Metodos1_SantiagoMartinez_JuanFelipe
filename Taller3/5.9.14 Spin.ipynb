{
 "cells": [
  {
   "cell_type": "code",
   "execution_count": 1,
   "id": "be40cc0c",
   "metadata": {},
   "outputs": [],
   "source": [
    "import numpy as np\n",
    "import matplotlib.pyplot as plt\n",
    "import sympy as sym\n",
    "from sympy import *\n",
    "from sympy import I"
   ]
  },
  {
   "cell_type": "code",
   "execution_count": 2,
   "id": "6a816f6b",
   "metadata": {},
   "outputs": [],
   "source": [
    "ox = Matrix([[0, 1], [1,0]])\n",
    "oy = Matrix([[0, -I], [I, 0]])\n",
    "oz = Matrix([[1, 0], [0, -1]])"
   ]
  },
  {
   "cell_type": "code",
   "execution_count": 3,
   "id": "3f95b0ef",
   "metadata": {},
   "outputs": [
    {
     "data": {
      "text/latex": [
       "$\\displaystyle \\left[\\begin{matrix}0 & 1\\\\1 & 0\\end{matrix}\\right]$"
      ],
      "text/plain": [
       "Matrix([\n",
       "[0, 1],\n",
       "[1, 0]])"
      ]
     },
     "execution_count": 3,
     "metadata": {},
     "output_type": "execute_result"
    }
   ],
   "source": [
    "ox"
   ]
  },
  {
   "cell_type": "code",
   "execution_count": 4,
   "id": "3443e48e",
   "metadata": {},
   "outputs": [
    {
     "data": {
      "text/latex": [
       "$\\displaystyle \\left[\\begin{matrix}0 & - i\\\\i & 0\\end{matrix}\\right]$"
      ],
      "text/plain": [
       "Matrix([\n",
       "[0, -I],\n",
       "[I,  0]])"
      ]
     },
     "execution_count": 4,
     "metadata": {},
     "output_type": "execute_result"
    }
   ],
   "source": [
    "oy"
   ]
  },
  {
   "cell_type": "code",
   "execution_count": 5,
   "id": "add614fd",
   "metadata": {},
   "outputs": [
    {
     "data": {
      "text/latex": [
       "$\\displaystyle \\left[\\begin{matrix}1 & 0\\\\0 & -1\\end{matrix}\\right]$"
      ],
      "text/plain": [
       "Matrix([\n",
       "[1,  0],\n",
       "[0, -1]])"
      ]
     },
     "execution_count": 5,
     "metadata": {},
     "output_type": "execute_result"
    }
   ],
   "source": [
    "oz"
   ]
  },
  {
   "cell_type": "code",
   "execution_count": 6,
   "id": "03b4589b",
   "metadata": {},
   "outputs": [],
   "source": [
    "def conmutador(A,B):\n",
    "    return A@B-B@A"
   ]
  },
  {
   "cell_type": "markdown",
   "id": "a7e98fc8",
   "metadata": {},
   "source": [
    "## Permutacion Par"
   ]
  },
  {
   "cell_type": "code",
   "execution_count": 7,
   "id": "7554b8b8",
   "metadata": {},
   "outputs": [
    {
     "data": {
      "text/latex": [
       "$\\displaystyle \\left[\\begin{matrix}2 i & 0\\\\0 & - 2 i\\end{matrix}\\right]$"
      ],
      "text/plain": [
       "Matrix([\n",
       "[2*I,    0],\n",
       "[  0, -2*I]])"
      ]
     },
     "execution_count": 7,
     "metadata": {},
     "output_type": "execute_result"
    }
   ],
   "source": [
    "conmutador(ox,oy)"
   ]
  },
  {
   "cell_type": "code",
   "execution_count": 8,
   "id": "4bcb6440",
   "metadata": {},
   "outputs": [
    {
     "data": {
      "text/latex": [
       "$\\displaystyle \\left[\\begin{matrix}2 i & 0\\\\0 & - 2 i\\end{matrix}\\right]$"
      ],
      "text/plain": [
       "Matrix([\n",
       "[2*I,    0],\n",
       "[  0, -2*I]])"
      ]
     },
     "execution_count": 8,
     "metadata": {},
     "output_type": "execute_result"
    }
   ],
   "source": [
    "2*I*oz"
   ]
  },
  {
   "cell_type": "code",
   "execution_count": 9,
   "id": "695e021b",
   "metadata": {},
   "outputs": [
    {
     "data": {
      "text/latex": [
       "$\\displaystyle \\left[\\begin{matrix}0 & 2 i\\\\2 i & 0\\end{matrix}\\right]$"
      ],
      "text/plain": [
       "Matrix([\n",
       "[  0, 2*I],\n",
       "[2*I,   0]])"
      ]
     },
     "execution_count": 9,
     "metadata": {},
     "output_type": "execute_result"
    }
   ],
   "source": [
    "conmutador(oy,oz)"
   ]
  },
  {
   "cell_type": "code",
   "execution_count": 10,
   "id": "d5e35202",
   "metadata": {},
   "outputs": [
    {
     "data": {
      "text/latex": [
       "$\\displaystyle \\left[\\begin{matrix}0 & 2 i\\\\2 i & 0\\end{matrix}\\right]$"
      ],
      "text/plain": [
       "Matrix([\n",
       "[  0, 2*I],\n",
       "[2*I,   0]])"
      ]
     },
     "execution_count": 10,
     "metadata": {},
     "output_type": "execute_result"
    }
   ],
   "source": [
    "2*I*ox"
   ]
  },
  {
   "cell_type": "code",
   "execution_count": 11,
   "id": "1c2c3e8d",
   "metadata": {},
   "outputs": [
    {
     "data": {
      "text/latex": [
       "$\\displaystyle \\left[\\begin{matrix}0 & 2\\\\-2 & 0\\end{matrix}\\right]$"
      ],
      "text/plain": [
       "Matrix([\n",
       "[ 0, 2],\n",
       "[-2, 0]])"
      ]
     },
     "execution_count": 11,
     "metadata": {},
     "output_type": "execute_result"
    }
   ],
   "source": [
    "conmutador(oz,ox)"
   ]
  },
  {
   "cell_type": "code",
   "execution_count": 12,
   "id": "09abf814",
   "metadata": {},
   "outputs": [
    {
     "data": {
      "text/latex": [
       "$\\displaystyle \\left[\\begin{matrix}0 & 2\\\\-2 & 0\\end{matrix}\\right]$"
      ],
      "text/plain": [
       "Matrix([\n",
       "[ 0, 2],\n",
       "[-2, 0]])"
      ]
     },
     "execution_count": 12,
     "metadata": {},
     "output_type": "execute_result"
    }
   ],
   "source": [
    "2*I*oy"
   ]
  },
  {
   "cell_type": "markdown",
   "id": "96fa41e3",
   "metadata": {},
   "source": [
    "## Permutacion Impar"
   ]
  },
  {
   "cell_type": "code",
   "execution_count": 13,
   "id": "a13d6132",
   "metadata": {},
   "outputs": [
    {
     "data": {
      "text/latex": [
       "$\\displaystyle \\left[\\begin{matrix}0 & - 2 i\\\\- 2 i & 0\\end{matrix}\\right]$"
      ],
      "text/plain": [
       "Matrix([\n",
       "[   0, -2*I],\n",
       "[-2*I,    0]])"
      ]
     },
     "execution_count": 13,
     "metadata": {},
     "output_type": "execute_result"
    }
   ],
   "source": [
    "conmutador(oz,oy)"
   ]
  },
  {
   "cell_type": "code",
   "execution_count": 14,
   "id": "30783fff",
   "metadata": {},
   "outputs": [
    {
     "data": {
      "text/latex": [
       "$\\displaystyle \\left[\\begin{matrix}0 & - 2 i\\\\- 2 i & 0\\end{matrix}\\right]$"
      ],
      "text/plain": [
       "Matrix([\n",
       "[   0, -2*I],\n",
       "[-2*I,    0]])"
      ]
     },
     "execution_count": 14,
     "metadata": {},
     "output_type": "execute_result"
    }
   ],
   "source": [
    "-2*I*ox"
   ]
  },
  {
   "cell_type": "code",
   "execution_count": 15,
   "id": "e4b994d1",
   "metadata": {},
   "outputs": [
    {
     "data": {
      "text/latex": [
       "$\\displaystyle \\left[\\begin{matrix}0 & -2\\\\2 & 0\\end{matrix}\\right]$"
      ],
      "text/plain": [
       "Matrix([\n",
       "[0, -2],\n",
       "[2,  0]])"
      ]
     },
     "execution_count": 15,
     "metadata": {},
     "output_type": "execute_result"
    }
   ],
   "source": [
    "conmutador(ox,oz)"
   ]
  },
  {
   "cell_type": "code",
   "execution_count": 16,
   "id": "e3bed346",
   "metadata": {},
   "outputs": [
    {
     "data": {
      "text/latex": [
       "$\\displaystyle \\left[\\begin{matrix}0 & -2\\\\2 & 0\\end{matrix}\\right]$"
      ],
      "text/plain": [
       "Matrix([\n",
       "[0, -2],\n",
       "[2,  0]])"
      ]
     },
     "execution_count": 16,
     "metadata": {},
     "output_type": "execute_result"
    }
   ],
   "source": [
    "-2*I*oy"
   ]
  },
  {
   "cell_type": "code",
   "execution_count": 17,
   "id": "6c652b98",
   "metadata": {},
   "outputs": [
    {
     "data": {
      "text/latex": [
       "$\\displaystyle \\left[\\begin{matrix}- 2 i & 0\\\\0 & 2 i\\end{matrix}\\right]$"
      ],
      "text/plain": [
       "Matrix([\n",
       "[-2*I,   0],\n",
       "[   0, 2*I]])"
      ]
     },
     "execution_count": 17,
     "metadata": {},
     "output_type": "execute_result"
    }
   ],
   "source": [
    "conmutador(oy,ox)"
   ]
  },
  {
   "cell_type": "code",
   "execution_count": 18,
   "id": "3e495ff1",
   "metadata": {},
   "outputs": [
    {
     "data": {
      "text/latex": [
       "$\\displaystyle \\left[\\begin{matrix}- 2 i & 0\\\\0 & 2 i\\end{matrix}\\right]$"
      ],
      "text/plain": [
       "Matrix([\n",
       "[-2*I,   0],\n",
       "[   0, 2*I]])"
      ]
     },
     "execution_count": 18,
     "metadata": {},
     "output_type": "execute_result"
    }
   ],
   "source": [
    "-2*I*oz"
   ]
  },
  {
   "cell_type": "markdown",
   "id": "90864965",
   "metadata": {},
   "source": [
    "## Sin Permutacion"
   ]
  },
  {
   "cell_type": "code",
   "execution_count": 19,
   "id": "915903a9",
   "metadata": {},
   "outputs": [
    {
     "data": {
      "text/latex": [
       "$\\displaystyle \\left[\\begin{matrix}0 & 0\\\\0 & 0\\end{matrix}\\right]$"
      ],
      "text/plain": [
       "Matrix([\n",
       "[0, 0],\n",
       "[0, 0]])"
      ]
     },
     "execution_count": 19,
     "metadata": {},
     "output_type": "execute_result"
    }
   ],
   "source": [
    "conmutador(ox,ox)"
   ]
  },
  {
   "cell_type": "code",
   "execution_count": 20,
   "id": "46461838",
   "metadata": {},
   "outputs": [
    {
     "data": {
      "text/latex": [
       "$\\displaystyle \\left[\\begin{matrix}0 & 0\\\\0 & 0\\end{matrix}\\right]$"
      ],
      "text/plain": [
       "Matrix([\n",
       "[0, 0],\n",
       "[0, 0]])"
      ]
     },
     "execution_count": 20,
     "metadata": {},
     "output_type": "execute_result"
    }
   ],
   "source": [
    "conmutador(oy,oy)"
   ]
  },
  {
   "cell_type": "code",
   "execution_count": 21,
   "id": "bb417e3f",
   "metadata": {},
   "outputs": [
    {
     "data": {
      "text/latex": [
       "$\\displaystyle \\left[\\begin{matrix}0 & 0\\\\0 & 0\\end{matrix}\\right]$"
      ],
      "text/plain": [
       "Matrix([\n",
       "[0, 0],\n",
       "[0, 0]])"
      ]
     },
     "execution_count": 21,
     "metadata": {},
     "output_type": "execute_result"
    }
   ],
   "source": [
    "conmutador(oz,oz)"
   ]
  },
  {
   "cell_type": "code",
   "execution_count": null,
   "id": "1a5f95fb",
   "metadata": {},
   "outputs": [],
   "source": []
  }
 ],
 "metadata": {
  "kernelspec": {
   "display_name": "Python 3 (ipykernel)",
   "language": "python",
   "name": "python3"
  },
  "language_info": {
   "codemirror_mode": {
    "name": "ipython",
    "version": 3
   },
   "file_extension": ".py",
   "mimetype": "text/x-python",
   "name": "python",
   "nbconvert_exporter": "python",
   "pygments_lexer": "ipython3",
   "version": "3.9.13"
  }
 },
 "nbformat": 4,
 "nbformat_minor": 5
}
