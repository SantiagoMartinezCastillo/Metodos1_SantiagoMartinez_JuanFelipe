{
 "cells": [
  {
   "cell_type": "code",
   "execution_count": 1,
   "id": "b438a568",
   "metadata": {},
   "outputs": [],
   "source": [
    "import numpy as np\n",
    "import matplotlib.pyplot as plt"
   ]
  },
  {
   "cell_type": "code",
   "execution_count": 2,
   "id": "8fd01fe6",
   "metadata": {},
   "outputs": [],
   "source": [
    "A = [[4,-2,1],[20,-7,12],[-8,13,17]]"
   ]
  },
  {
   "cell_type": "code",
   "execution_count": 3,
   "id": "238f4bf7",
   "metadata": {},
   "outputs": [],
   "source": [
    "def LU1(A):\n",
    "    factor = A[1][0]/A[0][0]\n",
    "    L[1][0] = factor\n",
    "    A1 = A[0]\n",
    "    A2 = A[1]\n",
    "    A3 = A[2]\n",
    "    a = []\n",
    "    for i in range (len(A1)):\n",
    "        a.append(A2[i]-A1[i]*factor)\n",
    "    return [A1,a,A3]"
   ]
  },
  {
   "cell_type": "code",
   "execution_count": 4,
   "id": "1d9edf74",
   "metadata": {},
   "outputs": [],
   "source": [
    "def LU2(A):\n",
    "    factor = A[2][0]/A[0][0]\n",
    "    L[2][0] = factor\n",
    "    A1 = A[0]\n",
    "    A2 = A[1]\n",
    "    A3 = A[2]\n",
    "    a = []\n",
    "    for i in range (len(A1)):\n",
    "        a.append(A3[i]-A1[i]*factor)\n",
    "    return [A1,A2,a]"
   ]
  },
  {
   "cell_type": "code",
   "execution_count": 5,
   "id": "9667bc05",
   "metadata": {},
   "outputs": [],
   "source": [
    "def LU3(A):\n",
    "    factor = A[2][1]/A[1][1]\n",
    "    L[2][1] = factor\n",
    "    A1 = A[0]\n",
    "    A2 = A[1]\n",
    "    A3 = A[2]\n",
    "    a = []\n",
    "    for i in range (len(A1)):\n",
    "        a.append(A3[i]-A2[i]*factor)\n",
    "    return [A1,A2,a]"
   ]
  },
  {
   "cell_type": "code",
   "execution_count": 6,
   "id": "db3bce4f",
   "metadata": {},
   "outputs": [],
   "source": [
    "L = [[0,0,0],[0,0,0],[0,0,0]]\n",
    "def LUF(A):\n",
    "    return LU3(LU2(LU1(A)))"
   ]
  },
  {
   "cell_type": "code",
   "execution_count": 7,
   "id": "cb1b41ab",
   "metadata": {},
   "outputs": [],
   "source": [
    "U=np.array(LUF(A))"
   ]
  },
  {
   "cell_type": "code",
   "execution_count": 8,
   "id": "48d02239",
   "metadata": {},
   "outputs": [],
   "source": [
    "L = np.array(L)"
   ]
  },
  {
   "cell_type": "code",
   "execution_count": 9,
   "id": "efdefc8a",
   "metadata": {},
   "outputs": [
    {
     "data": {
      "text/plain": [
       "array([[ 0.,  0.,  0.],\n",
       "       [ 5.,  0.,  0.],\n",
       "       [-2.,  3.,  0.]])"
      ]
     },
     "execution_count": 9,
     "metadata": {},
     "output_type": "execute_result"
    }
   ],
   "source": [
    "L"
   ]
  },
  {
   "cell_type": "code",
   "execution_count": 10,
   "id": "51036379",
   "metadata": {},
   "outputs": [
    {
     "data": {
      "text/plain": [
       "array([[ 4., -2.,  1.],\n",
       "       [ 0.,  3.,  7.],\n",
       "       [ 0.,  0., -2.]])"
      ]
     },
     "execution_count": 10,
     "metadata": {},
     "output_type": "execute_result"
    }
   ],
   "source": [
    "U"
   ]
  }
 ],
 "metadata": {
  "kernelspec": {
   "display_name": "Python 3 (ipykernel)",
   "language": "python",
   "name": "python3"
  },
  "language_info": {
   "codemirror_mode": {
    "name": "ipython",
    "version": 3
   },
   "file_extension": ".py",
   "mimetype": "text/x-python",
   "name": "python",
   "nbconvert_exporter": "python",
   "pygments_lexer": "ipython3",
   "version": "3.9.13"
  }
 },
 "nbformat": 4,
 "nbformat_minor": 5
}
