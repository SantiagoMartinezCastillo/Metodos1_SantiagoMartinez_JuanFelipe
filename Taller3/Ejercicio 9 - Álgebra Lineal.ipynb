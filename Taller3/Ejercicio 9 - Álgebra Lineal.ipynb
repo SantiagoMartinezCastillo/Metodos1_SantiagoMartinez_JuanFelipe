{
 "cells": [
  {
   "cell_type": "code",
   "execution_count": 1,
   "id": "af8e71aa",
   "metadata": {},
   "outputs": [],
   "source": [
    "import numpy as np"
   ]
  },
  {
   "cell_type": "code",
   "execution_count": 2,
   "id": "9eda614a",
   "metadata": {},
   "outputs": [],
   "source": [
    "def findLargest(M):\n",
    "    largest_num = -np.inf\n",
    "    largest_pos = np.array(([0, 0]))\n",
    "    for i in range(len(M[:,])):\n",
    "        for j in range(len((M[0,:]))):\n",
    "            if i != j:\n",
    "                if np.abs(M[i, j]) > largest_num:\n",
    "                    largest_num = np.absolute(M[i, j])\n",
    "                    largest_pos[0] = i\n",
    "                    largest_pos[1] = j\n",
    "                    \n",
    "    return largest_pos"
   ]
  },
  {
   "cell_type": "code",
   "execution_count": 3,
   "id": "cd5214e1",
   "metadata": {},
   "outputs": [],
   "source": [
    "def findTheta(M, pos):\n",
    "    i = pos[0]\n",
    "    j = pos[1]\n",
    "    mij = M[i, j]\n",
    "    mii = M[i, i]\n",
    "    mjj = M[j, j]\n",
    "    \n",
    "    if mii == mjj:\n",
    "        return np.pi/4\n",
    "    else:\n",
    "        return (0.5)*np.arctan((2*mij)/np.absolute((mii - mjj)))"
   ]
  },
  {
   "cell_type": "code",
   "execution_count": 4,
   "id": "bb1b087c",
   "metadata": {},
   "outputs": [],
   "source": [
    "def createMatrixR(M, pos):\n",
    "    R = np.identity(len(M[:,]))\n",
    "        \n",
    "    theta = findTheta(M, pos)\n",
    "    i = pos[0]\n",
    "    j = pos[1]\n",
    "    \n",
    "    R[i, j] = np.sin(theta)\n",
    "    R[j, i] = -np.sin(theta)\n",
    "    R[i, i] = np.cos(theta)\n",
    "    R[j, j] = np.cos(theta)\n",
    "    \n",
    "    return R"
   ]
  },
  {
   "cell_type": "code",
   "execution_count": 5,
   "id": "e3b99368",
   "metadata": {},
   "outputs": [],
   "source": [
    "def checkDiagonal(M):\n",
    "    for i in range(len(M[:,])):\n",
    "        for j in range(len((M[0,:]))):\n",
    "            if i != j:\n",
    "                if M[i, j] != 0:\n",
    "                    return False\n",
    "            \n",
    "    return True"
   ]
  },
  {
   "cell_type": "code",
   "execution_count": 6,
   "id": "9db387c8",
   "metadata": {},
   "outputs": [],
   "source": [
    "def cleanMatrix(M, c = 1e-12):\n",
    "    for i in range(len(M[:,])):\n",
    "        for j in range(len((M[0,:]))):\n",
    "            if i != j:\n",
    "                if np.abs(M[i, j]) < c:\n",
    "                    M[i, j] = 0.\n",
    "                    \n",
    "    return M"
   ]
  },
  {
   "cell_type": "code",
   "execution_count": 7,
   "id": "e33c3358",
   "metadata": {},
   "outputs": [
    {
     "name": "stdout",
     "output_type": "stream",
     "text": [
      "[[4. 1. 1.]\n",
      " [1. 3. 2.]\n",
      " [1. 2. 5.]]\n",
      "17\n"
     ]
    },
    {
     "data": {
      "text/plain": [
       "array([[6.89510652, 0.        , 0.        ],\n",
       "       [0.        , 1.70759841, 0.        ],\n",
       "       [0.        , 0.        , 3.39729507]])"
      ]
     },
     "execution_count": 7,
     "metadata": {},
     "output_type": "execute_result"
    }
   ],
   "source": [
    "A = np.array(([4., 1., 1.], [1., 3., 2.], [1., 2., 5.]))\n",
    "A2 = np.copy(A)\n",
    "print(A)\n",
    "\n",
    "R = np.identity(len(A[:,]))\n",
    "\n",
    "max_it = 100\n",
    "it = 0\n",
    "diag = False\n",
    "while not diag and it < max_it:\n",
    "    pos = findLargest(A)\n",
    "    R_actual = createMatrixR(A, pos)\n",
    "    R = np.matmul(R, R_actual)\n",
    "    R_inv = np.linalg.inv(R_actual)\n",
    "    A = np.matmul(R_inv, np.matmul(A, R_actual))\n",
    "    A = cleanMatrix(A)\n",
    "    diag = checkDiagonal(A)\n",
    "        \n",
    "    it += 1\n",
    "\n",
    "print(it)\n",
    "A"
   ]
  },
  {
   "cell_type": "markdown",
   "id": "6b19bce1",
   "metadata": {},
   "source": [
    "Vector Propio de 6.89510652:"
   ]
  },
  {
   "cell_type": "code",
   "execution_count": 8,
   "id": "dbd52678",
   "metadata": {},
   "outputs": [
    {
     "data": {
      "text/plain": [
       "array([0.43170413, 0.49725362, 0.75257583])"
      ]
     },
     "execution_count": 8,
     "metadata": {},
     "output_type": "execute_result"
    }
   ],
   "source": [
    "r1 = np.array(([1., 0., 0.]))\n",
    "v1 = np.matmul(R, r1)\n",
    "if v1[0] < 0:\n",
    "    v1 = -v1\n",
    "(1/np.linalg.norm(v1))*v1"
   ]
  },
  {
   "cell_type": "markdown",
   "id": "9ac21095",
   "metadata": {},
   "source": [
    "Vector Propio de 1.70759841:"
   ]
  },
  {
   "cell_type": "code",
   "execution_count": 9,
   "id": "b4906a24",
   "metadata": {},
   "outputs": [
    {
     "data": {
      "text/plain": [
       "array([ 0.17059871, -0.86427949,  0.47319874])"
      ]
     },
     "execution_count": 9,
     "metadata": {},
     "output_type": "execute_result"
    }
   ],
   "source": [
    "r2 = np.array(([0., 1., 0.]))\n",
    "v2 = np.matmul(R, r2)\n",
    "if v2[0] < 0:\n",
    "    v2 = -v2\n",
    "(1/np.linalg.norm(v2))*v2"
   ]
  },
  {
   "cell_type": "markdown",
   "id": "0939f647",
   "metadata": {},
   "source": [
    "Vector Propio de 3.39729507:"
   ]
  },
  {
   "cell_type": "code",
   "execution_count": 10,
   "id": "6f77bb1c",
   "metadata": {},
   "outputs": [
    {
     "data": {
      "text/plain": [
       "array([ 0.88573564, -0.07589338, -0.45794385])"
      ]
     },
     "execution_count": 10,
     "metadata": {},
     "output_type": "execute_result"
    }
   ],
   "source": [
    "r3 = np.array(([0., 0., 1.]))\n",
    "v3 = np.matmul(R, r3)\n",
    "if v3[0] < 0:\n",
    "    v3 = -v3\n",
    "(1/np.linalg.norm(v3))*v3"
   ]
  },
  {
   "cell_type": "code",
   "execution_count": 11,
   "id": "49727838",
   "metadata": {},
   "outputs": [
    {
     "data": {
      "text/plain": [
       "(array([6.89510652, 3.39729507, 1.70759841]),\n",
       " array([[ 0.43170413,  0.88573564,  0.17059871],\n",
       "        [ 0.49725362, -0.07589338, -0.86427949],\n",
       "        [ 0.75257583, -0.45794385,  0.47319874]]))"
      ]
     },
     "execution_count": 11,
     "metadata": {},
     "output_type": "execute_result"
    }
   ],
   "source": [
    "np.linalg.eig(A2)"
   ]
  }
 ],
 "metadata": {
  "kernelspec": {
   "display_name": "Python 3",
   "language": "python",
   "name": "python3"
  },
  "language_info": {
   "codemirror_mode": {
    "name": "ipython",
    "version": 3
   },
   "file_extension": ".py",
   "mimetype": "text/x-python",
   "name": "python",
   "nbconvert_exporter": "python",
   "pygments_lexer": "ipython3",
   "version": "3.8.8"
  }
 },
 "nbformat": 4,
 "nbformat_minor": 5
}
