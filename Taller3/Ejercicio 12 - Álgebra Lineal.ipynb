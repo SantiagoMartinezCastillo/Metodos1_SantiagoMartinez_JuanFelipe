{
 "cells": [
  {
   "cell_type": "code",
   "execution_count": 1,
   "id": "8f3f5fcb",
   "metadata": {},
   "outputs": [],
   "source": [
    "import numpy as np"
   ]
  },
  {
   "cell_type": "code",
   "execution_count": 2,
   "id": "9ad96491",
   "metadata": {},
   "outputs": [],
   "source": [
    "def f1(x):\n",
    "    return 6*x[0] - 2*np.cos(x[1]*x[2]) - 1"
   ]
  },
  {
   "cell_type": "code",
   "execution_count": 3,
   "id": "983750aa",
   "metadata": {},
   "outputs": [],
   "source": [
    "def f2(x):\n",
    "    return 9*x[1] + np.sqrt(np.square(x[0]) + np.sin(x[2]) + 1.06) + 0.9"
   ]
  },
  {
   "cell_type": "code",
   "execution_count": 4,
   "id": "f70e52c1",
   "metadata": {},
   "outputs": [],
   "source": [
    "def f3(x):\n",
    "    return 60*x[2] + 3*np.exp(-x[0]*x[1]) + 10*np.pi - 3."
   ]
  },
  {
   "cell_type": "code",
   "execution_count": 5,
   "id": "a094da20",
   "metadata": {},
   "outputs": [],
   "source": [
    "def DerivateO4(f, x, component, h):\n",
    "    H = np.zeros_like(x)\n",
    "    H[component] += h\n",
    "    return (-f(x+2*H) + 8*f(x+H) - 8*f(x-H) + f(x-2*H))/(12*h)"
   ]
  },
  {
   "cell_type": "code",
   "execution_count": 6,
   "id": "2bcbed9d",
   "metadata": {},
   "outputs": [],
   "source": [
    "def DerivateO2(f, x, component, h):\n",
    "    H = np.zeros_like(x)\n",
    "    H[component] += h\n",
    "    return (f(x+H) - f(x-H))/(2*h)"
   ]
  },
  {
   "cell_type": "code",
   "execution_count": 7,
   "id": "35a1d112",
   "metadata": {},
   "outputs": [],
   "source": [
    "def Jacobian(F, x, O2 = False, h = 1e-2):\n",
    "    J = np.zeros((len(F), len(x)))\n",
    "    for i in range(len(F)):\n",
    "        for j in range(len(x)):\n",
    "            if not O2:\n",
    "                J[i][j] = DerivateO4(F[i], x, j, h)\n",
    "            else:\n",
    "                J[i][j] = DerivateO2(F[i], x, j, h)\n",
    "                \n",
    "    return J"
   ]
  },
  {
   "cell_type": "code",
   "execution_count": 8,
   "id": "91035c5c",
   "metadata": {},
   "outputs": [],
   "source": [
    "F = (f1, f2, f3)\n",
    "x = np.array(([0.5, 0.5, 0.5]))"
   ]
  },
  {
   "cell_type": "code",
   "execution_count": 9,
   "id": "97d2c484",
   "metadata": {},
   "outputs": [
    {
     "data": {
      "text/plain": [
       "array([[ 6.        ,  0.24740396,  0.24740396],\n",
       "       [ 0.37377753,  9.        ,  0.32802064],\n",
       "       [-1.16820117, -1.16820117, 60.        ]])"
      ]
     },
     "execution_count": 9,
     "metadata": {},
     "output_type": "execute_result"
    }
   ],
   "source": [
    "JO4 = Jacobian(F, x)\n",
    "JO4"
   ]
  },
  {
   "cell_type": "code",
   "execution_count": 10,
   "id": "ef59e118",
   "metadata": {},
   "outputs": [
    {
     "data": {
      "text/plain": [
       "array([[ 6.        ,  0.24740293,  0.24740293],\n",
       "       [ 0.37376854,  9.        ,  0.32801836],\n",
       "       [-1.16820604, -1.16820604, 60.        ]])"
      ]
     },
     "execution_count": 10,
     "metadata": {},
     "output_type": "execute_result"
    }
   ],
   "source": [
    "JO2 = Jacobian(F, x, O2 = True)\n",
    "JO2"
   ]
  },
  {
   "cell_type": "markdown",
   "id": "0ef899f6",
   "metadata": {},
   "source": [
    "Sean h0 y h1 los valores de h para la derivada de orden 4 y orden 2 respectivamente. Si queremos que los errores de ambos métodos sean iguales, entonces podemos establecer la siguiente igualdad:\n",
    "\n",
    "(h0)^4 = (h1)^2    =>    (h0)^2 = h1\n",
    "\n",
    "Si establecemos h0 = 0.01 (como en las instrucciones del problema), tenemos que:\n",
    "\n",
    "h1 = 0.0001\n",
    "\n",
    "A continuación, verificamos este resultado:"
   ]
  },
  {
   "cell_type": "code",
   "execution_count": 11,
   "id": "50b8124d",
   "metadata": {},
   "outputs": [
    {
     "data": {
      "text/plain": [
       "array([[ 6.        ,  0.24740396,  0.24740396],\n",
       "       [ 0.37377753,  9.        ,  0.32802064],\n",
       "       [-1.16820118, -1.16820118, 60.        ]])"
      ]
     },
     "execution_count": 11,
     "metadata": {},
     "output_type": "execute_result"
    }
   ],
   "source": [
    "JO2_2 = Jacobian(F, x, O2 = True, h = 1e-4)\n",
    "JO2_2"
   ]
  },
  {
   "cell_type": "markdown",
   "id": "9f6954ba",
   "metadata": {},
   "source": [
    "Arriba, podemos apreciar como el Jacobiano obtenido con h = 0.0001 en la derivada de orden 2 es casi idéntico al Jacobiano obtenido con h = 0.01 en la derivada de orden 4 (salvo por una diferencia de 1.*10^-8, en las entradas [3,1] y [3,2])."
   ]
  },
  {
   "cell_type": "code",
   "execution_count": null,
   "id": "e45e96d0",
   "metadata": {},
   "outputs": [],
   "source": []
  }
 ],
 "metadata": {
  "kernelspec": {
   "display_name": "Python 3",
   "language": "python",
   "name": "python3"
  },
  "language_info": {
   "codemirror_mode": {
    "name": "ipython",
    "version": 3
   },
   "file_extension": ".py",
   "mimetype": "text/x-python",
   "name": "python",
   "nbconvert_exporter": "python",
   "pygments_lexer": "ipython3",
   "version": "3.8.8"
  }
 },
 "nbformat": 4,
 "nbformat_minor": 5
}
