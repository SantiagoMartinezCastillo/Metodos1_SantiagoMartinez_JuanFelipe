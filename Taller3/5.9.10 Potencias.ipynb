{
 "cells": [
  {
   "cell_type": "code",
   "execution_count": 1,
   "id": "4d18cbe9",
   "metadata": {},
   "outputs": [],
   "source": [
    "import numpy as np\n",
    "import matplotlib.pyplot as plt"
   ]
  },
  {
   "cell_type": "code",
   "execution_count": 2,
   "id": "cb2c471d",
   "metadata": {},
   "outputs": [],
   "source": [
    "H = np.array([[1,2,-1],[1,0,1],[4,-4,5]])\n",
    "x0 = np.array([1,1,1])"
   ]
  },
  {
   "cell_type": "code",
   "execution_count": 3,
   "id": "1459c947",
   "metadata": {},
   "outputs": [
    {
     "data": {
      "text/plain": [
       "array([[ 1,  2, -1],\n",
       "       [ 1,  0,  1],\n",
       "       [ 4, -4,  5]])"
      ]
     },
     "execution_count": 3,
     "metadata": {},
     "output_type": "execute_result"
    }
   ],
   "source": [
    "H"
   ]
  },
  {
   "cell_type": "code",
   "execution_count": 4,
   "id": "5ee28a9f",
   "metadata": {},
   "outputs": [],
   "source": [
    "HI = np.linalg.inv(H)"
   ]
  },
  {
   "cell_type": "code",
   "execution_count": 5,
   "id": "7c241ed2",
   "metadata": {},
   "outputs": [],
   "source": [
    "def potenciaInversa(HI,x0,it=10000,acept=1e-14):\n",
    "    dif = 100\n",
    "    x = np.array([0,0,0])\n",
    "    flag = False\n",
    "    while not (np.allclose(x0,x,acept,acept)):\n",
    "        if flag:\n",
    "            x0 = x\n",
    "        x = HI@x0/np.linalg.norm(x0)\n",
    "        flag = True\n",
    "    return x"
   ]
  },
  {
   "cell_type": "code",
   "execution_count": 6,
   "id": "d319c51d",
   "metadata": {},
   "outputs": [],
   "source": [
    "res = potenciaInversa(HI,x0)"
   ]
  },
  {
   "cell_type": "code",
   "execution_count": 7,
   "id": "e2defd83",
   "metadata": {},
   "outputs": [
    {
     "data": {
      "text/plain": [
       "array([-0.40824829,  0.40824829,  0.81649658])"
      ]
     },
     "execution_count": 7,
     "metadata": {},
     "output_type": "execute_result"
    }
   ],
   "source": [
    "res"
   ]
  },
  {
   "cell_type": "code",
   "execution_count": 8,
   "id": "2f3aa925",
   "metadata": {},
   "outputs": [],
   "source": [
    "l = 1/np.linalg.norm(res)"
   ]
  },
  {
   "cell_type": "code",
   "execution_count": 9,
   "id": "75702db1",
   "metadata": {},
   "outputs": [
    {
     "data": {
      "text/plain": [
       "0.9999999999999825"
      ]
     },
     "execution_count": 9,
     "metadata": {},
     "output_type": "execute_result"
    }
   ],
   "source": [
    "l"
   ]
  },
  {
   "cell_type": "code",
   "execution_count": 10,
   "id": "04e07bab",
   "metadata": {},
   "outputs": [],
   "source": [
    "v = res/np.linalg.norm(res)"
   ]
  },
  {
   "cell_type": "code",
   "execution_count": 11,
   "id": "7a4927b4",
   "metadata": {},
   "outputs": [
    {
     "data": {
      "text/plain": [
       "array([-0.40824829,  0.40824829,  0.81649658])"
      ]
     },
     "execution_count": 11,
     "metadata": {},
     "output_type": "execute_result"
    }
   ],
   "source": [
    "v"
   ]
  },
  {
   "cell_type": "code",
   "execution_count": null,
   "id": "fc2fe70b",
   "metadata": {},
   "outputs": [],
   "source": []
  }
 ],
 "metadata": {
  "kernelspec": {
   "display_name": "Python 3 (ipykernel)",
   "language": "python",
   "name": "python3"
  },
  "language_info": {
   "codemirror_mode": {
    "name": "ipython",
    "version": 3
   },
   "file_extension": ".py",
   "mimetype": "text/x-python",
   "name": "python",
   "nbconvert_exporter": "python",
   "pygments_lexer": "ipython3",
   "version": "3.9.13"
  }
 },
 "nbformat": 4,
 "nbformat_minor": 5
}
