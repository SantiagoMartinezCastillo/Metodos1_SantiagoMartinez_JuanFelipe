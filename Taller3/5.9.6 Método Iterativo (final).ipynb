{
 "cells": [
  {
   "cell_type": "code",
   "execution_count": 5,
   "id": "31b5fb92",
   "metadata": {},
   "outputs": [],
   "source": [
    "import numpy as np\n",
    "import matplotlib.pyplot as plt"
   ]
  },
  {
   "cell_type": "code",
   "execution_count": 177,
   "id": "f69c4b41",
   "metadata": {},
   "outputs": [],
   "source": [
    "def Jacobi(A,b,x0, itmax=1000, tolerancia= 1e-9):\n",
    "    \n",
    "    x = x0.copy()\n",
    "\n",
    "    w= 0.85\n",
    "    \n",
    "    anterior = 0\n",
    "    \n",
    "    for it in range(itmax):\n",
    "        \n",
    "        xn = np.zeros_like(x0)\n",
    "        \n",
    "        for i in range(A.shape[0]):\n",
    "            \n",
    "            sum_ = 0.\n",
    "            \n",
    "            for j in range(A.shape[1]):\n",
    "                \n",
    "                if j!=i:\n",
    "                    sum_ += A[i,j]*x[j]\n",
    "                    \n",
    "            xn[i] = (b[i] - sum_)/A[i,i]\n",
    "            \n",
    "            xn[i] = w*xn[i]+(1-w)*anterior\n",
    "            \n",
    "            anterior = xn[i].copy()\n",
    "        \n",
    "        residuo = np.linalg.norm( np.dot(A,xn) - b )\n",
    "        x = xn.copy()\n",
    "        \n",
    "        \n",
    "        print(it,x)\n",
    "        \n",
    "        if np.allclose(residuo,tolerancia,atol=tolerancia):\n",
    "            break\n",
    "        \n",
    "    return x"
   ]
  },
  {
   "cell_type": "code",
   "execution_count": 178,
   "id": "247bc277",
   "metadata": {},
   "outputs": [],
   "source": [
    "A = np.array([[3.,-1.,-1.],[-1.,3.,1.],[2.,1.,4.]])\n",
    "b = np.array([1.,3.,7.])\n",
    "x0 = np.array([0.,0.,0.])"
   ]
  },
  {
   "cell_type": "code",
   "execution_count": 179,
   "id": "c122a7fe",
   "metadata": {},
   "outputs": [
    {
     "name": "stdout",
     "output_type": "stream",
     "text": [
      "0 [0.28333333 0.8925     1.621375  ]\n",
      "1 [1.23880417 0.65670882 1.27593341]\n",
      "2 [1.02230531 0.99282585 0.97038148]\n",
      "3 [0.98513263 1.01248165 0.993917  ]\n",
      "4 [1.0009005  0.99764617 1.00331321]\n",
      "5 [1.0007688  0.99943172 1.00003223]\n",
      "6 [0.99985296 1.00018664 0.99982201]\n",
      "7 [0.99997575 1.00000513 1.0000236 ]\n",
      "8 [1.00001168 0.99998819 1.00000744]\n",
      "9 [0.99999988 1.00000118 0.99999772]\n",
      "10 [0.99999935 1.00000051 0.99999988]\n",
      "11 [1.00000009 0.99999986 1.00000015]\n",
      "12 [1.00000003 0.99999999 0.99999999]\n",
      "13 [0.99999999 1.00000001 0.99999999]\n",
      "14 [1. 1. 1.]\n",
      "15 [1. 1. 1.]\n",
      "16 [1. 1. 1.]\n"
     ]
    },
    {
     "data": {
      "text/plain": [
       "array([1., 1., 1.])"
      ]
     },
     "execution_count": 179,
     "metadata": {},
     "output_type": "execute_result"
    }
   ],
   "source": [
    "Jacobi(A,b,x0)"
   ]
  },
  {
   "cell_type": "code",
   "execution_count": null,
   "id": "0431e34a",
   "metadata": {},
   "outputs": [],
   "source": []
  }
 ],
 "metadata": {
  "kernelspec": {
   "display_name": "Python 3 (ipykernel)",
   "language": "python",
   "name": "python3"
  },
  "language_info": {
   "codemirror_mode": {
    "name": "ipython",
    "version": 3
   },
   "file_extension": ".py",
   "mimetype": "text/x-python",
   "name": "python",
   "nbconvert_exporter": "python",
   "pygments_lexer": "ipython3",
   "version": "3.9.13"
  }
 },
 "nbformat": 4,
 "nbformat_minor": 5
}
