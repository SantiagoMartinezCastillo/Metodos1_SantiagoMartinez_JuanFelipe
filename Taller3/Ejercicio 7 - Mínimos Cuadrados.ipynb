{
 "cells": [
  {
   "cell_type": "code",
   "execution_count": 1,
   "id": "d7dc2219",
   "metadata": {},
   "outputs": [],
   "source": [
    "import numpy as np\n",
    "import matplotlib.pyplot as plt\n",
    "import urllib.request"
   ]
  },
  {
   "cell_type": "code",
   "execution_count": 2,
   "id": "2d3f28f5",
   "metadata": {},
   "outputs": [],
   "source": [
    "url = 'https://raw.githubusercontent.com/asegura4488/Database/main/MetodosComputacionalesReforma/Sigmoid.csv'"
   ]
  },
  {
   "cell_type": "code",
   "execution_count": 3,
   "id": "88eab930",
   "metadata": {},
   "outputs": [],
   "source": [
    "filename = 'Data/Sigmoid.txt'"
   ]
  },
  {
   "cell_type": "code",
   "execution_count": 4,
   "id": "5992e8ad",
   "metadata": {},
   "outputs": [
    {
     "data": {
      "text/plain": [
       "('Data/Sigmoid.txt', <http.client.HTTPMessage at 0x24a39026190>)"
      ]
     },
     "execution_count": 4,
     "metadata": {},
     "output_type": "execute_result"
    }
   ],
   "source": [
    "urllib.request.urlretrieve(url, filename)"
   ]
  },
  {
   "cell_type": "code",
   "execution_count": 5,
   "id": "981db238",
   "metadata": {},
   "outputs": [],
   "source": [
    "data = np.loadtxt(filename, delimiter = ',', skiprows=1)\n",
    "xdata = data[:,0]\n",
    "ydata = data[:,1]"
   ]
  },
  {
   "cell_type": "code",
   "execution_count": 6,
   "id": "d3d5c807",
   "metadata": {},
   "outputs": [],
   "source": [
    "def Model(x, theta):\n",
    "    return (theta[0][0])/(theta[1][0] + np.exp(-theta[2][0]*x))"
   ]
  },
  {
   "cell_type": "code",
   "execution_count": 7,
   "id": "441b8004",
   "metadata": {},
   "outputs": [],
   "source": [
    "def Cost(xdata, ydata, theta):\n",
    "    return np.sum(np.square((ydata - Model(xdata, theta))))"
   ]
  },
  {
   "cell_type": "code",
   "execution_count": 8,
   "id": "c4402c7e",
   "metadata": {},
   "outputs": [],
   "source": [
    "def Derivative(x, theta, component, h=1e-8):\n",
    "    theta_forwards = np.copy(theta)\n",
    "    theta_forwards[component][0] += h\n",
    "    theta_backwards = np.copy(theta)\n",
    "    theta_backwards[component][0] -= h\n",
    "    \n",
    "    return (Model(x, theta_forwards) - Model(x, theta_backwards))/(2*h)"
   ]
  },
  {
   "cell_type": "code",
   "execution_count": 9,
   "id": "f06b52ad",
   "metadata": {},
   "outputs": [],
   "source": [
    "def Gradient(x, theta):\n",
    "    gradiente = np.zeros((3, 1))\n",
    "    for i in range(len(theta)):\n",
    "        gradiente[i][0] = Derivative(x, theta, i)\n",
    "        \n",
    "    return gradiente"
   ]
  },
  {
   "cell_type": "code",
   "execution_count": 10,
   "id": "92265b99",
   "metadata": {},
   "outputs": [],
   "source": [
    "def GradientDescent(xdata, ydata, theta, LConstant):\n",
    "    suma_vect = np.zeros((3, 1))\n",
    "    \n",
    "    for i in range(len(xdata)):\n",
    "        suma_vect += (ydata[i] - Model(xdata[i], theta))*Gradient(xdata[i], theta)\n",
    "        \n",
    "    return theta + 2*LConstant*suma_vect"
   ]
  },
  {
   "cell_type": "code",
   "execution_count": 11,
   "id": "bd1cfce6",
   "metadata": {},
   "outputs": [
    {
     "data": {
      "text/plain": [
       "array([[4.15951335],\n",
       "       [0.92110979],\n",
       "       [2.84500773]])"
      ]
     },
     "execution_count": 11,
     "metadata": {},
     "output_type": "execute_result"
    }
   ],
   "source": [
    "LConstant = 5e-4\n",
    "theta = np.array(([1.], [1.], [1.]))\n",
    "error_parada = 1e-2\n",
    "error = np.inf\n",
    "max_it = 1e4\n",
    "it = 0 \n",
    "\n",
    "\n",
    "while error > error_parada and it < max_it:\n",
    "    theta = GradientDescent(xdata, ydata, theta, LConstant)\n",
    "    error = Cost(xdata, ydata, theta)\n",
    "    it += 1\n",
    "\n",
    "theta"
   ]
  },
  {
   "cell_type": "code",
   "execution_count": 12,
   "id": "5dbd3ac6",
   "metadata": {},
   "outputs": [
    {
     "data": {
      "text/plain": [
       "-9.373002627080403"
      ]
     },
     "execution_count": 12,
     "metadata": {},
     "output_type": "execute_result"
    }
   ],
   "source": [
    "mini = np.amin(xdata)\n",
    "mini"
   ]
  },
  {
   "cell_type": "code",
   "execution_count": 13,
   "id": "60d1a3d5",
   "metadata": {},
   "outputs": [
    {
     "data": {
      "text/plain": [
       "9.639363155234108"
      ]
     },
     "execution_count": 13,
     "metadata": {},
     "output_type": "execute_result"
    }
   ],
   "source": [
    "maxi = np.amax(xdata)\n",
    "maxi"
   ]
  },
  {
   "cell_type": "code",
   "execution_count": 14,
   "id": "d34f60c0",
   "metadata": {},
   "outputs": [
    {
     "data": {
      "image/png": "[encoded data removed]",
      "text/plain": [
       "<Figure size 640x480 with 1 Axes>"
      ]
     },
     "metadata": {},
     "output_type": "display_data"
    }
   ],
   "source": [
    "X = np.linspace(-10, 10, 2001)\n",
    "Y = Model(X, theta)\n",
    "plt.plot(X, Y)\n",
    "plt.scatter(xdata, ydata, color= 'r')\n",
    "plt.show()"
   ]
  }
 ],
 "metadata": {
  "kernelspec": {
   "display_name": "Python 3 (ipykernel)",
   "language": "python",
   "name": "python3"
  },
  "language_info": {
   "codemirror_mode": {
    "name": "ipython",
    "version": 3
   },
   "file_extension": ".py",
   "mimetype": "text/x-python",
   "name": "python",
   "nbconvert_exporter": "python",
   "pygments_lexer": "ipython3",
   "version": "3.9.13"
  }
 },
 "nbformat": 4,
 "nbformat_minor": 5
}
