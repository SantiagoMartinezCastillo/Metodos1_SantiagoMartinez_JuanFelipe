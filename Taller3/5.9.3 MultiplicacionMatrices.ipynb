{
 "cells": [
  {
   "cell_type": "code",
   "execution_count": 16,
   "id": "8ca9d40e",
   "metadata": {},
   "outputs": [],
   "source": [
    "import numpy as np\n",
    "import matplotlib.pyplot as plt"
   ]
  },
  {
   "cell_type": "code",
   "execution_count": 107,
   "id": "30473809",
   "metadata": {},
   "outputs": [],
   "source": [
    "a = [[1,0,0],[5,1,0],[-2,3,1]]\n",
    "b = [[4,-2,1],[0,3,7],[0,0,2]]"
   ]
  },
  {
   "cell_type": "code",
   "execution_count": 129,
   "id": "e51ecf8a",
   "metadata": {},
   "outputs": [],
   "source": [
    "def multMatrix(a,b):\n",
    "    cTemp = []\n",
    "    iActual = 0\n",
    "\n",
    "    \n",
    "    for i in range(len(a)):\n",
    "        \n",
    "        cRow = []\n",
    "        for j in range(len(a)):\n",
    "            \n",
    "            suma = 0\n",
    "            \n",
    "            for k in range(len(b[0])):\n",
    "            \n",
    "                suma += a[i][k]*b[k][j]\n",
    "                \n",
    "                if k == len(b[:][0])-1:\n",
    "                    cRow.append(suma)\n",
    "                    \n",
    "            if len(cRow) == len(a):\n",
    "                cTemp.append(cRow)\n",
    "            \n",
    "    return cTemp"
   ]
  },
  {
   "cell_type": "code",
   "execution_count": 130,
   "id": "d7adcb4d",
   "metadata": {},
   "outputs": [],
   "source": [
    "c = multMatrix(a,b)"
   ]
  },
  {
   "cell_type": "code",
   "execution_count": 131,
   "id": "45c9a99e",
   "metadata": {},
   "outputs": [
    {
     "data": {
      "text/plain": [
       "[[4, -2, 1], [20, -7, 12], [-8, 13, 21]]"
      ]
     },
     "execution_count": 131,
     "metadata": {},
     "output_type": "execute_result"
    }
   ],
   "source": [
    "c"
   ]
  }
 ],
 "metadata": {
  "kernelspec": {
   "display_name": "Python 3 (ipykernel)",
   "language": "python",
   "name": "python3"
  },
  "language_info": {
   "codemirror_mode": {
    "name": "ipython",
    "version": 3
   },
   "file_extension": ".py",
   "mimetype": "text/x-python",
   "name": "python",
   "nbconvert_exporter": "python",
   "pygments_lexer": "ipython3",
   "version": "3.9.13"
  }
 },
 "nbformat": 4,
 "nbformat_minor": 5
}
