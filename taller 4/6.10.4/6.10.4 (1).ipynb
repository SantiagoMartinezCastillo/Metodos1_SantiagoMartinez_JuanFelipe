{
 "cells": [
  {
   "cell_type": "code",
   "execution_count": 1,
   "id": "1f4146a2",
   "metadata": {},
   "outputs": [],
   "source": [
    "import numpy as np\n",
    "import sympy as sp\n",
    "from sympy import *"
   ]
  },
  {
   "cell_type": "code",
   "execution_count": 2,
   "id": "7f89c593",
   "metadata": {},
   "outputs": [],
   "source": [
    "x = sp.symbols('x')\n",
    "y = sp.symbols('y')\n",
    "def combNoRep(n,r):\n",
    "    return factorial(n)/(factorial(r)*factorial(n-r))"
   ]
  },
  {
   "cell_type": "markdown",
   "id": "57b00c78",
   "metadata": {},
   "source": [
    "Del enunciado sabemos que se escogen X electrones de 3. Y protones de 2 y el resto son neutrones de 3 posibles neutrones. Esto nos lleva a creer que estamos buscando combinatorias de electrones protones y neutrones. Como sacamos 4 particulas de las 8 totales que tenemos entonces ya tenemos el total numero de combinación para las particulas. Entonces para encontrar la función de probabilidad podemos encontrar las combinatorias individuales de las particulas y dividirlas por las totales, que es precisamente lo que muestra la guía."
   ]
  },
  {
   "cell_type": "code",
   "execution_count": 3,
   "id": "df8e4b16",
   "metadata": {},
   "outputs": [
    {
     "data": {
      "text/latex": [
       "$\\displaystyle {\\binom{3}{x}}$"
      ],
      "text/plain": [
       "binomial(3, x)"
      ]
     },
     "execution_count": 3,
     "metadata": {},
     "output_type": "execute_result"
    }
   ],
   "source": [
    "elec = binomial(3, x) #para los electron\n",
    "elec"
   ]
  },
  {
   "cell_type": "code",
   "execution_count": 4,
   "id": "bcac9d17",
   "metadata": {},
   "outputs": [
    {
     "data": {
      "text/latex": [
       "$\\displaystyle {\\binom{2}{y}}$"
      ],
      "text/plain": [
       "binomial(2, y)"
      ]
     },
     "execution_count": 4,
     "metadata": {},
     "output_type": "execute_result"
    }
   ],
   "source": [
    "prot = binomial(2, y) #para los proton\n",
    "prot"
   ]
  },
  {
   "cell_type": "code",
   "execution_count": 5,
   "id": "d7330222",
   "metadata": {},
   "outputs": [
    {
     "data": {
      "text/latex": [
       "$\\displaystyle {\\binom{3}{- x - y + 4}}$"
      ],
      "text/plain": [
       "binomial(3, -x - y + 4)"
      ]
     },
     "execution_count": 5,
     "metadata": {},
     "output_type": "execute_result"
    }
   ],
   "source": [
    "neut = binomial(3,4-x-y) #para los neutrones\n",
    "neut"
   ]
  },
  {
   "cell_type": "code",
   "execution_count": 6,
   "id": "63329acb",
   "metadata": {},
   "outputs": [
    {
     "data": {
      "text/latex": [
       "$\\displaystyle \\frac{{\\binom{2}{y}} {\\binom{3}{x}} {\\binom{3}{- x - y + 4}}}{70}$"
      ],
      "text/plain": [
       "binomial(2, y)*binomial(3, x)*binomial(3, -x - y + 4)/70"
      ]
     },
     "execution_count": 6,
     "metadata": {},
     "output_type": "execute_result"
    }
   ],
   "source": [
    "final =elec*prot*neut/binomial(8,4) #la total\n",
    "final"
   ]
  },
  {
   "cell_type": "code",
   "execution_count": 7,
   "id": "58fea745",
   "metadata": {},
   "outputs": [
    {
     "data": {
      "text/latex": [
       "$\\displaystyle \\frac{{\\binom{3}{x}} {\\binom{3}{2 - x}}}{70} + \\frac{{\\binom{3}{x}} {\\binom{3}{3 - x}}}{35} + \\frac{{\\binom{3}{x}} {\\binom{3}{4 - x}}}{70}$"
      ],
      "text/plain": [
       "binomial(3, x)*binomial(3, 2 - x)/70 + binomial(3, x)*binomial(3, 3 - x)/35 + binomial(3, x)*binomial(3, 4 - x)/70"
      ]
     },
     "execution_count": 7,
     "metadata": {},
     "output_type": "execute_result"
    }
   ],
   "source": [
    "#marginal g(x)\n",
    "g = final.subs(y,0)+final.subs(y,1)+final.subs(y,2)\n",
    "g"
   ]
  },
  {
   "cell_type": "code",
   "execution_count": 8,
   "id": "8be15892",
   "metadata": {},
   "outputs": [
    {
     "data": {
      "text/latex": [
       "$\\displaystyle \\frac{{\\binom{2}{y}} {\\binom{3}{1 - y}}}{70} + \\frac{3 {\\binom{2}{y}} {\\binom{3}{2 - y}}}{70} + \\frac{3 {\\binom{2}{y}} {\\binom{3}{3 - y}}}{70} + \\frac{{\\binom{2}{y}} {\\binom{3}{4 - y}}}{70}$"
      ],
      "text/plain": [
       "binomial(2, y)*binomial(3, 1 - y)/70 + 3*binomial(2, y)*binomial(3, 2 - y)/70 + 3*binomial(2, y)*binomial(3, 3 - y)/70 + binomial(2, y)*binomial(3, 4 - y)/70"
      ]
     },
     "execution_count": 8,
     "metadata": {},
     "output_type": "execute_result"
    }
   ],
   "source": [
    "#marginal h(y)\n",
    "h = final.subs(x,0)+final.subs(x,1)+final.subs(x,2)+final.subs(x,3)\n",
    "h"
   ]
  },
  {
   "cell_type": "code",
   "execution_count": 9,
   "id": "e01b7c34",
   "metadata": {},
   "outputs": [],
   "source": [
    "def esperadoX(val):\n",
    "    return val*g.subs(x,val)\n",
    "def esperadoY(val):\n",
    "    return val*h.subs(y,val)\n",
    "def esperadoXY(val,val2):\n",
    "    return val*val2*final.subs(x,val).subs(y,val2)"
   ]
  },
  {
   "cell_type": "code",
   "execution_count": 10,
   "id": "28f8a8f7",
   "metadata": {},
   "outputs": [
    {
     "data": {
      "text/latex": [
       "$\\displaystyle 1.5$"
      ],
      "text/plain": [
       "1.50000000000000"
      ]
     },
     "execution_count": 10,
     "metadata": {},
     "output_type": "execute_result"
    }
   ],
   "source": [
    "e = np.linspace(0,3,4)\n",
    "valEx = 0\n",
    "for i in e:\n",
    "    valEx += esperadoX(i)\n",
    "valEx #para x de electron"
   ]
  },
  {
   "cell_type": "code",
   "execution_count": 11,
   "id": "edbf62dc",
   "metadata": {},
   "outputs": [
    {
     "data": {
      "text/latex": [
       "$\\displaystyle 1.0$"
      ],
      "text/plain": [
       "1.00000000000000"
      ]
     },
     "execution_count": 11,
     "metadata": {},
     "output_type": "execute_result"
    }
   ],
   "source": [
    "p = np.linspace(0,2,3)\n",
    "valEy = 0\n",
    "for j in p:\n",
    "    valEy += esperadoY(j)\n",
    "valEy #para y de proton"
   ]
  },
  {
   "cell_type": "code",
   "execution_count": 12,
   "id": "1842ec90",
   "metadata": {},
   "outputs": [
    {
     "data": {
      "text/latex": [
       "$\\displaystyle 1.28571428571429$"
      ],
      "text/plain": [
       "1.28571428571429"
      ]
     },
     "execution_count": 12,
     "metadata": {},
     "output_type": "execute_result"
    }
   ],
   "source": [
    "valExy = 0\n",
    "for i in e:\n",
    "    for j in p:\n",
    "        valExy += esperadoXY(i,j)\n",
    "valExy #para neutrones"
   ]
  },
  {
   "cell_type": "code",
   "execution_count": 13,
   "id": "eb1ccf3e",
   "metadata": {},
   "outputs": [
    {
     "data": {
      "text/latex": [
       "$\\displaystyle -0.214285714285714$"
      ],
      "text/plain": [
       "-0.214285714285714"
      ]
     },
     "execution_count": 13,
     "metadata": {},
     "output_type": "execute_result"
    }
   ],
   "source": [
    "cov = valExy-(valEx*valEy)\n",
    "cov"
   ]
  },
  {
   "cell_type": "code",
   "execution_count": 14,
   "id": "148a9207",
   "metadata": {},
   "outputs": [
    {
     "data": {
      "text/latex": [
       "$\\displaystyle -0.214285714285714$"
      ],
      "text/plain": [
       "-0.214285714285714"
      ]
     },
     "execution_count": 14,
     "metadata": {},
     "output_type": "execute_result"
    }
   ],
   "source": [
    "covAlt = 0\n",
    "for i in e:\n",
    "    for j in p:\n",
    "        covAlt += (i-valEx)*(j-valEy)*final.subs(x,i).subs(y,j)\n",
    "covAlt"
   ]
  },
  {
   "cell_type": "code",
   "execution_count": 15,
   "id": "a18256a0",
   "metadata": {},
   "outputs": [],
   "source": [
    "#como la covarianza es diferente a 0 eso quiere decir que X y Y no son independientes"
   ]
  }
 ],
 "metadata": {
  "kernelspec": {
   "display_name": "Python 3 (ipykernel)",
   "language": "python",
   "name": "python3"
  },
  "language_info": {
   "codemirror_mode": {
    "name": "ipython",
    "version": 3
   },
   "file_extension": ".py",
   "mimetype": "text/x-python",
   "name": "python",
   "nbconvert_exporter": "python",
   "pygments_lexer": "ipython3",
   "version": "3.9.13"
  }
 },
 "nbformat": 4,
 "nbformat_minor": 5
}
