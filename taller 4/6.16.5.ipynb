{
 "cells": [
  {
   "cell_type": "code",
   "execution_count": 1,
   "id": "eae6bedf",
   "metadata": {},
   "outputs": [],
   "source": [
    "import numpy as np\n",
    "import matplotlib.pyplot as plt"
   ]
  },
  {
   "cell_type": "code",
   "execution_count": 2,
   "id": "205337c2",
   "metadata": {},
   "outputs": [],
   "source": [
    "def TakeStep(posx, posy):\n",
    "    dx = np.random.uniform(-1., 1.)\n",
    "    dy = np.random.uniform(-1., 1.)\n",
    "    return posx + dx, posy + dy"
   ]
  },
  {
   "cell_type": "code",
   "execution_count": 3,
   "id": "931460d1",
   "metadata": {},
   "outputs": [],
   "source": [
    "walkers = np.zeros((30, 2, 100001))"
   ]
  },
  {
   "cell_type": "code",
   "execution_count": 4,
   "id": "32cdf2d8",
   "metadata": {},
   "outputs": [],
   "source": [
    "for i in range(len(walkers[:, 0, 0])):\n",
    "    for j in range(1, len(walkers[0, 0, :])):\n",
    "        walkers[i, 0, j], walkers[i, 1, j] = TakeStep(walkers[i, 0, j-1], walkers[i, 1, j-1])"
   ]
  },
  {
   "cell_type": "code",
   "execution_count": 5,
   "id": "6f70c430",
   "metadata": {},
   "outputs": [
    {
     "data": {
      "text/plain": [
       "6.495019576453781"
      ]
     },
     "execution_count": 5,
     "metadata": {},
     "output_type": "execute_result"
    }
   ],
   "source": [
    "ave_10 = np.sum(np.square(walkers[:, 0, 10]) + np.square(walkers[:, 1, 10]))/30\n",
    "ave_10"
   ]
  },
  {
   "cell_type": "code",
   "execution_count": 6,
   "id": "b7dd3641",
   "metadata": {},
   "outputs": [
    {
     "data": {
      "text/plain": [
       "97.06016959052174"
      ]
     },
     "execution_count": 6,
     "metadata": {},
     "output_type": "execute_result"
    }
   ],
   "source": [
    "ave_100 = np.sum(np.square(walkers[:, 0, 100]) + np.square(walkers[:, 1, 100]))/30\n",
    "ave_100"
   ]
  },
  {
   "cell_type": "code",
   "execution_count": 7,
   "id": "944cef05",
   "metadata": {},
   "outputs": [
    {
     "data": {
      "text/plain": [
       "382.09255142295837"
      ]
     },
     "execution_count": 7,
     "metadata": {},
     "output_type": "execute_result"
    }
   ],
   "source": [
    "ave_500 = np.sum(np.square(walkers[:, 0, 500]) + np.square(walkers[:, 1, 500]))/30\n",
    "ave_500"
   ]
  },
  {
   "cell_type": "code",
   "execution_count": 8,
   "id": "42f55b80",
   "metadata": {},
   "outputs": [
    {
     "data": {
      "text/plain": [
       "689.0717966539366"
      ]
     },
     "execution_count": 8,
     "metadata": {},
     "output_type": "execute_result"
    }
   ],
   "source": [
    "ave_1000 = np.sum(np.square(walkers[:, 0, 1000]) + np.square(walkers[:, 1, 1000]))/30\n",
    "ave_1000"
   ]
  },
  {
   "cell_type": "code",
   "execution_count": 9,
   "id": "ecb75245",
   "metadata": {},
   "outputs": [
    {
     "data": {
      "text/plain": [
       "3476.3360087025253"
      ]
     },
     "execution_count": 9,
     "metadata": {},
     "output_type": "execute_result"
    }
   ],
   "source": [
    "ave_5000 = np.sum(np.square(walkers[:, 0, 5000]) + np.square(walkers[:, 1, 5000]))/30\n",
    "ave_5000"
   ]
  },
  {
   "cell_type": "code",
   "execution_count": 10,
   "id": "093672be",
   "metadata": {},
   "outputs": [
    {
     "data": {
      "text/plain": [
       "6878.77354808153"
      ]
     },
     "execution_count": 10,
     "metadata": {},
     "output_type": "execute_result"
    }
   ],
   "source": [
    "ave_10000 = np.sum(np.square(walkers[:, 0, 10000]) + np.square(walkers[:, 1, 10000]))/30\n",
    "ave_10000"
   ]
  },
  {
   "cell_type": "code",
   "execution_count": 11,
   "id": "6a03dd26",
   "metadata": {},
   "outputs": [
    {
     "data": {
      "text/plain": [
       "14929.793467846055"
      ]
     },
     "execution_count": 11,
     "metadata": {},
     "output_type": "execute_result"
    }
   ],
   "source": [
    "ave_20000 = np.sum(np.square(walkers[:, 0, 20000]) + np.square(walkers[:, 1, 20000]))/30\n",
    "ave_20000"
   ]
  },
  {
   "cell_type": "code",
   "execution_count": 12,
   "id": "79d4b6de",
   "metadata": {},
   "outputs": [
    {
     "data": {
      "text/plain": [
       "93822.44588053724"
      ]
     },
     "execution_count": 12,
     "metadata": {},
     "output_type": "execute_result"
    }
   ],
   "source": [
    "ave_100000 = np.sum(np.square(walkers[:, 0, 100000]) + np.square(walkers[:, 1, 100000]))/30\n",
    "ave_100000"
   ]
  },
  {
   "cell_type": "code",
   "execution_count": 13,
   "id": "39e4c3ae",
   "metadata": {},
   "outputs": [
    {
     "data": {
      "text/plain": [
       "<matplotlib.collections.PathCollection at 0x21419dae2e0>"
      ]
     },
     "execution_count": 13,
     "metadata": {},
     "output_type": "execute_result"
    },
    {
     "data": {
      "image/png": "[encoded data removed]",
      "text/plain": [
       "<Figure size 640x480 with 1 Axes>"
      ]
     },
     "metadata": {},
     "output_type": "display_data"
    }
   ],
   "source": [
    "plt.scatter([10, 100, 500, 1000, 5000, 10000, 20000, 100000],[ave_10, ave_100, ave_500, ave_1000, ave_5000, ave_10000, ave_20000, ave_100000])"
   ]
  },
  {
   "cell_type": "code",
   "execution_count": null,
   "id": "1076f9dd",
   "metadata": {},
   "outputs": [],
   "source": []
  }
 ],
 "metadata": {
  "kernelspec": {
   "display_name": "Python 3 (ipykernel)",
   "language": "python",
   "name": "python3"
  },
  "language_info": {
   "codemirror_mode": {
    "name": "ipython",
    "version": 3
   },
   "file_extension": ".py",
   "mimetype": "text/x-python",
   "name": "python",
   "nbconvert_exporter": "python",
   "pygments_lexer": "ipython3",
   "version": "3.9.13"
  }
 },
 "nbformat": 4,
 "nbformat_minor": 5
}
