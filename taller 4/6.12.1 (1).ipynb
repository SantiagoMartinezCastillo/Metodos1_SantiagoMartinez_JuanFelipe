{
 "cells": [
  {
   "cell_type": "code",
   "execution_count": 46,
   "id": "a6f29a55",
   "metadata": {},
   "outputs": [],
   "source": [
    "import numpy as np\n",
    "import sympy as sym\n",
    "from sympy import *\n",
    "from sympy.plotting import plot3d"
   ]
  },
  {
   "cell_type": "code",
   "execution_count": 43,
   "id": "d3b5bc50",
   "metadata": {},
   "outputs": [],
   "source": [
    "x = sym.Symbol('x')\n",
    "y = sym.Symbol('y')"
   ]
  },
  {
   "cell_type": "code",
   "execution_count": 44,
   "id": "47a73def",
   "metadata": {},
   "outputs": [
    {
     "data": {
      "text/latex": [
       "$\\displaystyle \\frac{2 x}{3} + \\frac{4 y}{3}$"
      ],
      "text/plain": [
       "2*x/3 + 4*y/3"
      ]
     },
     "execution_count": 44,
     "metadata": {},
     "output_type": "execute_result"
    }
   ],
   "source": [
    "f = (Rational(2,3))*(x+2*y)\n",
    "f"
   ]
  },
  {
   "cell_type": "code",
   "execution_count": 63,
   "id": "de7ecef1",
   "metadata": {},
   "outputs": [
    {
     "data": {
      "text/latex": [
       "$\\displaystyle 1$"
      ],
      "text/plain": [
       "1"
      ]
     },
     "execution_count": 63,
     "metadata": {},
     "output_type": "execute_result"
    }
   ],
   "source": [
    "sym.integrate(f,(y,0,1),(x,0,1))"
   ]
  },
  {
   "cell_type": "markdown",
   "id": "f11b8aec",
   "metadata": {},
   "source": [
    "Como la función nos da 1 al integrarla sobre sus valores diferentes a 0, es una función de probabilidad valida"
   ]
  },
  {
   "cell_type": "code",
   "execution_count": 64,
   "id": "ae9b5504",
   "metadata": {},
   "outputs": [
    {
     "data": {
      "text/latex": [
       "$\\displaystyle \\frac{2 x}{3} + \\frac{2}{3}$"
      ],
      "text/plain": [
       "2*x/3 + 2/3"
      ]
     },
     "execution_count": 64,
     "metadata": {},
     "output_type": "execute_result"
    }
   ],
   "source": [
    "g=sym.integrate(f,(y,0,1))\n",
    "g"
   ]
  },
  {
   "cell_type": "code",
   "execution_count": 65,
   "id": "287530b1",
   "metadata": {},
   "outputs": [
    {
     "data": {
      "text/latex": [
       "$\\displaystyle \\frac{4 y}{3} + \\frac{1}{3}$"
      ],
      "text/plain": [
       "4*y/3 + 1/3"
      ]
     },
     "execution_count": 65,
     "metadata": {},
     "output_type": "execute_result"
    }
   ],
   "source": [
    "h=sym.integrate(f,(x,0,1))\n",
    "h"
   ]
  },
  {
   "cell_type": "code",
   "execution_count": 67,
   "id": "7c03db22",
   "metadata": {},
   "outputs": [
    {
     "data": {
      "text/latex": [
       "$\\displaystyle \\frac{5}{9}$"
      ],
      "text/plain": [
       "5/9"
      ]
     },
     "execution_count": 67,
     "metadata": {},
     "output_type": "execute_result"
    }
   ],
   "source": [
    "valEx = sym.integrate(g*x,(x,0,1))\n",
    "valEx"
   ]
  },
  {
   "cell_type": "code",
   "execution_count": 69,
   "id": "2f603f67",
   "metadata": {},
   "outputs": [
    {
     "data": {
      "text/latex": [
       "$\\displaystyle \\frac{11}{18}$"
      ],
      "text/plain": [
       "11/18"
      ]
     },
     "execution_count": 69,
     "metadata": {},
     "output_type": "execute_result"
    }
   ],
   "source": [
    "valEy = sym.integrate(h*y,(y,0,1))\n",
    "valEy"
   ]
  },
  {
   "cell_type": "code",
   "execution_count": 70,
   "id": "9f041298",
   "metadata": {},
   "outputs": [
    {
     "data": {
      "text/latex": [
       "$\\displaystyle \\frac{1}{3}$"
      ],
      "text/plain": [
       "1/3"
      ]
     },
     "execution_count": 70,
     "metadata": {},
     "output_type": "execute_result"
    }
   ],
   "source": [
    "valExy = sym.integrate(f*y*x,(y,0,1),(x,0,1))\n",
    "valExy"
   ]
  },
  {
   "cell_type": "code",
   "execution_count": 72,
   "id": "421ddd74",
   "metadata": {},
   "outputs": [
    {
     "data": {
      "text/latex": [
       "$\\displaystyle - \\frac{1}{162}$"
      ],
      "text/plain": [
       "-1/162"
      ]
     },
     "execution_count": 72,
     "metadata": {},
     "output_type": "execute_result"
    }
   ],
   "source": [
    "cov = valExy-(valEx*valEy)\n",
    "cov"
   ]
  },
  {
   "cell_type": "code",
   "execution_count": 73,
   "id": "42a18eb4",
   "metadata": {},
   "outputs": [
    {
     "data": {
      "text/latex": [
       "$\\displaystyle - \\frac{1}{162}$"
      ],
      "text/plain": [
       "-1/162"
      ]
     },
     "execution_count": 73,
     "metadata": {},
     "output_type": "execute_result"
    }
   ],
   "source": [
    "cov2 = sym.integrate(f*(y-valEy)*(x-valEx),(y,0,1),(x,0,1))\n",
    "cov2"
   ]
  },
  {
   "cell_type": "code",
   "execution_count": null,
   "id": "e7cebe83",
   "metadata": {},
   "outputs": [],
   "source": [
    "# X y Y tienen una covarianza diferente a 0, por lo cual no son independientes"
   ]
  }
 ],
 "metadata": {
  "kernelspec": {
   "display_name": "Python 3 (ipykernel)",
   "language": "python",
   "name": "python3"
  },
  "language_info": {
   "codemirror_mode": {
    "name": "ipython",
    "version": 3
   },
   "file_extension": ".py",
   "mimetype": "text/x-python",
   "name": "python",
   "nbconvert_exporter": "python",
   "pygments_lexer": "ipython3",
   "version": "3.9.13"
  }
 },
 "nbformat": 4,
 "nbformat_minor": 5
}
