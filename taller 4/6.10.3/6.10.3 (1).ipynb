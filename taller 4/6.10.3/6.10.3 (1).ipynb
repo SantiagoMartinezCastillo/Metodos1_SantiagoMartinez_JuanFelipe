{
 "cells": [
  {
   "cell_type": "code",
   "execution_count": 1,
   "id": "77e944bb",
   "metadata": {},
   "outputs": [],
   "source": [
    "import numpy as np"
   ]
  },
  {
   "cell_type": "markdown",
   "id": "b943eaca",
   "metadata": {},
   "source": [
    "Partiendo de la formula la volvemos codigo y mostramos que la función modela correctamente las probabilidades"
   ]
  },
  {
   "cell_type": "code",
   "execution_count": 2,
   "id": "af80ddf0",
   "metadata": {},
   "outputs": [],
   "source": [
    "def cambinatoria(n,r):\n",
    "    return np.math.factorial(n)/(np.math.factorial(r)*np.math.factorial(n-r))"
   ]
  },
  {
   "cell_type": "code",
   "execution_count": 3,
   "id": "b9bedc9a",
   "metadata": {},
   "outputs": [],
   "source": [
    "def f(x):\n",
    "    return cambinatoria(7,2-x)*cambinatoria(3,x)/cambinatoria(10,2)"
   ]
  },
  {
   "cell_type": "code",
   "execution_count": 4,
   "id": "4c864c4d",
   "metadata": {},
   "outputs": [
    {
     "data": {
      "text/plain": [
       "0.4666666666666667"
      ]
     },
     "execution_count": 4,
     "metadata": {},
     "output_type": "execute_result"
    }
   ],
   "source": [
    "a = f(0)\n",
    "a"
   ]
  },
  {
   "cell_type": "code",
   "execution_count": 5,
   "id": "779d32ef",
   "metadata": {},
   "outputs": [
    {
     "data": {
      "text/plain": [
       "0.4666666666666667"
      ]
     },
     "execution_count": 5,
     "metadata": {},
     "output_type": "execute_result"
    }
   ],
   "source": [
    "b = f(1)\n",
    "b"
   ]
  },
  {
   "cell_type": "code",
   "execution_count": 6,
   "id": "16fd1335",
   "metadata": {},
   "outputs": [
    {
     "data": {
      "text/plain": [
       "0.06666666666666667"
      ]
     },
     "execution_count": 6,
     "metadata": {},
     "output_type": "execute_result"
    }
   ],
   "source": [
    "c = f(2)\n",
    "c"
   ]
  },
  {
   "cell_type": "markdown",
   "id": "f2865900",
   "metadata": {},
   "source": [
    "Calculamos el valor esperado"
   ]
  },
  {
   "cell_type": "code",
   "execution_count": 7,
   "id": "2c002d0c",
   "metadata": {},
   "outputs": [],
   "source": [
    "def esperado(a,b,c):\n",
    "    return a*0+b*1+c*2"
   ]
  },
  {
   "cell_type": "code",
   "execution_count": 8,
   "id": "90f18b18",
   "metadata": {},
   "outputs": [
    {
     "data": {
      "text/plain": [
       "0.6"
      ]
     },
     "execution_count": 8,
     "metadata": {},
     "output_type": "execute_result"
    }
   ],
   "source": [
    "esperado(a,b,c)"
   ]
  },
  {
   "cell_type": "code",
   "execution_count": null,
   "id": "7c032478",
   "metadata": {},
   "outputs": [],
   "source": []
  }
 ],
 "metadata": {
  "kernelspec": {
   "display_name": "Python 3 (ipykernel)",
   "language": "python",
   "name": "python3"
  },
  "language_info": {
   "codemirror_mode": {
    "name": "ipython",
    "version": 3
   },
   "file_extension": ".py",
   "mimetype": "text/x-python",
   "name": "python",
   "nbconvert_exporter": "python",
   "pygments_lexer": "ipython3",
   "version": "3.9.13"
  }
 },
 "nbformat": 4,
 "nbformat_minor": 5
}
