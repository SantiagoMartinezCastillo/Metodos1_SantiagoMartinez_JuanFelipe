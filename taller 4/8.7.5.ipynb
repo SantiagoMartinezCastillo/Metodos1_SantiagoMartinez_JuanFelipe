{
 "cells": [
  {
   "cell_type": "code",
   "execution_count": 1,
   "id": "b3d6053a",
   "metadata": {},
   "outputs": [],
   "source": [
    "import numpy as np"
   ]
  },
  {
   "cell_type": "code",
   "execution_count": 2,
   "id": "90a06bed",
   "metadata": {},
   "outputs": [],
   "source": [
    "variables = np.zeros((20, int(1e6)))"
   ]
  },
  {
   "cell_type": "code",
   "execution_count": 3,
   "id": "5141783a",
   "metadata": {},
   "outputs": [],
   "source": [
    "for i in range(len(variables[:,0])):\n",
    "    variables[i,:] = np.random.exponential(2, int(1e6))"
   ]
  },
  {
   "cell_type": "code",
   "execution_count": 4,
   "id": "d0fd1da6",
   "metadata": {},
   "outputs": [
    {
     "data": {
      "text/plain": [
       "0.19998495118417164"
      ]
     },
     "execution_count": 4,
     "metadata": {},
     "output_type": "execute_result"
    }
   ],
   "source": [
    "np.var(variables)/20"
   ]
  },
  {
   "cell_type": "code",
   "execution_count": 5,
   "id": "0d9ae226",
   "metadata": {},
   "outputs": [
    {
     "name": "stdout",
     "output_type": "stream",
     "text": [
      "0.2\n"
     ]
    }
   ],
   "source": [
    "print(np.square(2)/20)"
   ]
  },
  {
   "cell_type": "code",
   "execution_count": null,
   "id": "e490d1fc",
   "metadata": {},
   "outputs": [],
   "source": []
  }
 ],
 "metadata": {
  "kernelspec": {
   "display_name": "Python 3",
   "language": "python",
   "name": "python3"
  },
  "language_info": {
   "codemirror_mode": {
    "name": "ipython",
    "version": 3
   },
   "file_extension": ".py",
   "mimetype": "text/x-python",
   "name": "python",
   "nbconvert_exporter": "python",
   "pygments_lexer": "ipython3",
   "version": "3.8.8"
  }
 },
 "nbformat": 4,
 "nbformat_minor": 5
}
