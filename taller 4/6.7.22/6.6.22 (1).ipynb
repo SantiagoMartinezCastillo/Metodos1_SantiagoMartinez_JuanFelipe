{
 "cells": [
  {
   "cell_type": "code",
   "execution_count": 7,
   "id": "21d59784",
   "metadata": {},
   "outputs": [],
   "source": [
    "import numpy as np"
   ]
  },
  {
   "cell_type": "code",
   "execution_count": 12,
   "id": "8629f278",
   "metadata": {},
   "outputs": [
    {
     "name": "stdout",
     "output_type": "stream",
     "text": [
      "[ 0.  1.  2.  3.  4.  5.  6.  7.  8.  9. 10.]\n"
     ]
    }
   ],
   "source": [
    "a = np.linspace(0,10,11)\n",
    "b = np.linspace(0,10,11)\n",
    "c = np.linspace(0,10,11)\n",
    "\n",
    "print(a)\n",
    "\n",
    "count = 0\n",
    "\n",
    "for i in a:\n",
    "    for j in b:\n",
    "        for k in c:\n",
    "            if i+j+k == 10:\n",
    "                count += 1"
   ]
  },
  {
   "cell_type": "code",
   "execution_count": 13,
   "id": "83c7b892",
   "metadata": {},
   "outputs": [
    {
     "data": {
      "text/plain": [
       "66"
      ]
     },
     "execution_count": 13,
     "metadata": {},
     "output_type": "execute_result"
    }
   ],
   "source": [
    "count"
   ]
  },
  {
   "cell_type": "code",
   "execution_count": null,
   "id": "77dc66df",
   "metadata": {},
   "outputs": [],
   "source": []
  }
 ],
 "metadata": {
  "kernelspec": {
   "display_name": "Python 3 (ipykernel)",
   "language": "python",
   "name": "python3"
  },
  "language_info": {
   "codemirror_mode": {
    "name": "ipython",
    "version": 3
   },
   "file_extension": ".py",
   "mimetype": "text/x-python",
   "name": "python",
   "nbconvert_exporter": "python",
   "pygments_lexer": "ipython3",
   "version": "3.9.13"
  }
 },
 "nbformat": 4,
 "nbformat_minor": 5
}
