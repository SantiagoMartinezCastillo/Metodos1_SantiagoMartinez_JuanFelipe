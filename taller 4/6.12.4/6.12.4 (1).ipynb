{
 "cells": [
  {
   "cell_type": "code",
   "execution_count": 1,
   "id": "f0feb226",
   "metadata": {},
   "outputs": [],
   "source": [
    "import numpy as np\n",
    "import sympy as sym"
   ]
  },
  {
   "cell_type": "code",
   "execution_count": 2,
   "id": "cd92d6d1",
   "metadata": {},
   "outputs": [],
   "source": [
    "x = sym.Symbol('x')"
   ]
  },
  {
   "cell_type": "code",
   "execution_count": 5,
   "id": "a615588b",
   "metadata": {},
   "outputs": [],
   "source": [
    "f = sym.exp(-x)"
   ]
  },
  {
   "cell_type": "code",
   "execution_count": 6,
   "id": "cab60be6",
   "metadata": {},
   "outputs": [
    {
     "data": {
      "text/latex": [
       "$\\displaystyle e^{- x}$"
      ],
      "text/plain": [
       "exp(-x)"
      ]
     },
     "execution_count": 6,
     "metadata": {},
     "output_type": "execute_result"
    }
   ],
   "source": [
    "f"
   ]
  },
  {
   "cell_type": "code",
   "execution_count": 9,
   "id": "b6a833b5",
   "metadata": {},
   "outputs": [],
   "source": [
    "g = sym.exp(2*x/3)"
   ]
  },
  {
   "cell_type": "code",
   "execution_count": 10,
   "id": "befce991",
   "metadata": {},
   "outputs": [
    {
     "data": {
      "text/latex": [
       "$\\displaystyle e^{\\frac{2 x}{3}}$"
      ],
      "text/plain": [
       "exp(2*x/3)"
      ]
     },
     "execution_count": 10,
     "metadata": {},
     "output_type": "execute_result"
    }
   ],
   "source": [
    "g"
   ]
  },
  {
   "cell_type": "code",
   "execution_count": 25,
   "id": "70018c89",
   "metadata": {},
   "outputs": [],
   "source": [
    "integral = sym.integrate(g*f,(x,0,sym.oo))"
   ]
  },
  {
   "cell_type": "code",
   "execution_count": 26,
   "id": "e255e2e6",
   "metadata": {},
   "outputs": [
    {
     "data": {
      "text/latex": [
       "$\\displaystyle 3$"
      ],
      "text/plain": [
       "3"
      ]
     },
     "execution_count": 26,
     "metadata": {},
     "output_type": "execute_result"
    }
   ],
   "source": [
    "integral"
   ]
  },
  {
   "cell_type": "code",
   "execution_count": 27,
   "id": "5c12c75b",
   "metadata": {},
   "outputs": [],
   "source": [
    "#el intervalo negativo es 0 en el limite, por lo que solo tomamos el positivo"
   ]
  },
  {
   "cell_type": "code",
   "execution_count": null,
   "id": "16a61372",
   "metadata": {},
   "outputs": [],
   "source": []
  }
 ],
 "metadata": {
  "kernelspec": {
   "display_name": "Python 3 (ipykernel)",
   "language": "python",
   "name": "python3"
  },
  "language_info": {
   "codemirror_mode": {
    "name": "ipython",
    "version": 3
   },
   "file_extension": ".py",
   "mimetype": "text/x-python",
   "name": "python",
   "nbconvert_exporter": "python",
   "pygments_lexer": "ipython3",
   "version": "3.9.13"
  }
 },
 "nbformat": 4,
 "nbformat_minor": 5
}
