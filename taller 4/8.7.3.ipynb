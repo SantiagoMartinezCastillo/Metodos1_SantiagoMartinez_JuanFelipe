{
 "cells": [
  {
   "cell_type": "code",
   "execution_count": 1,
   "id": "0595b656",
   "metadata": {},
   "outputs": [
    {
     "data": {
      "text/html": [
       "<style>.container { width:90% !important; }</style>"
      ],
      "text/plain": [
       "<IPython.core.display.HTML object>"
      ]
     },
     "metadata": {},
     "output_type": "display_data"
    }
   ],
   "source": [
    "# %matplotlib notebook\n",
    "from IPython.display import display, IFrame, HTML\n",
    "display(HTML(\"<style>.container { width:90% !important; }</style>\"))\n",
    "\n",
    "import numpy             as np\n",
    "import matplotlib.pyplot as plt\n",
    "from mpl_toolkits.mplot3d import Axes3D\n",
    "\n",
    "from matplotlib          import rc \n",
    "from matplotlib          import cm\n",
    "\n",
    "import pandas as pd\n",
    "import corner\n",
    "\n",
    "import os\n",
    "import os.path as path\n",
    "import wget\n",
    "\n",
    "import emcee\n",
    "\n",
    "from tqdm import tqdm\n",
    "\n",
    "from scipy.integrate import dblquad\n",
    "from scipy.integrate import quad"
   ]
  },
  {
   "cell_type": "code",
   "execution_count": 2,
   "id": "7994d165",
   "metadata": {},
   "outputs": [
    {
     "name": "stderr",
     "output_type": "stream",
     "text": [
      "\"rm\" no se reconoce como un comando interno o externo,\n",
      "programa o archivo por lotes ejecutable.\n"
     ]
    }
   ],
   "source": [
    "# Descargamos data\n",
    "if not path.exists('Data'):\n",
    "    os.mkdir('Data')\n",
    "\n",
    "!rm Data/*\n",
    "\n",
    "file = 'Data/Gaussiana.csv'\n",
    "url = 'https://raw.githubusercontent.com/asegura4488/Database/main/MetodosComputacionalesReforma/Gaussiano.csv'\n",
    "if not path.exists(file):\n",
    "    Path_ = wget.download(url,file)\n",
    "    print('File loaded')\n",
    "else:\n",
    "    Path_ = file"
   ]
  },
  {
   "cell_type": "code",
   "execution_count": 3,
   "id": "6cafc085",
   "metadata": {},
   "outputs": [
    {
     "data": {
      "text/html": [
       "<div>\n",
       "<style scoped>\n",
       "    .dataframe tbody tr th:only-of-type {\n",
       "        vertical-align: middle;\n",
       "    }\n",
       "\n",
       "    .dataframe tbody tr th {\n",
       "        vertical-align: top;\n",
       "    }\n",
       "\n",
       "    .dataframe thead th {\n",
       "        text-align: right;\n",
       "    }\n",
       "</style>\n",
       "<table border=\"1\" class=\"dataframe\">\n",
       "  <thead>\n",
       "    <tr style=\"text-align: right;\">\n",
       "      <th></th>\n",
       "      <th>x</th>\n",
       "    </tr>\n",
       "  </thead>\n",
       "  <tbody>\n",
       "    <tr>\n",
       "      <th>0</th>\n",
       "      <td>0.906451</td>\n",
       "    </tr>\n",
       "    <tr>\n",
       "      <th>1</th>\n",
       "      <td>5.446117</td>\n",
       "    </tr>\n",
       "    <tr>\n",
       "      <th>2</th>\n",
       "      <td>6.840238</td>\n",
       "    </tr>\n",
       "    <tr>\n",
       "      <th>3</th>\n",
       "      <td>0.743644</td>\n",
       "    </tr>\n",
       "    <tr>\n",
       "      <th>4</th>\n",
       "      <td>7.338518</td>\n",
       "    </tr>\n",
       "    <tr>\n",
       "      <th>...</th>\n",
       "      <td>...</td>\n",
       "    </tr>\n",
       "    <tr>\n",
       "      <th>95</th>\n",
       "      <td>1.497647</td>\n",
       "    </tr>\n",
       "    <tr>\n",
       "      <th>96</th>\n",
       "      <td>4.236658</td>\n",
       "    </tr>\n",
       "    <tr>\n",
       "      <th>97</th>\n",
       "      <td>4.678540</td>\n",
       "    </tr>\n",
       "    <tr>\n",
       "      <th>98</th>\n",
       "      <td>6.479197</td>\n",
       "    </tr>\n",
       "    <tr>\n",
       "      <th>99</th>\n",
       "      <td>2.595297</td>\n",
       "    </tr>\n",
       "  </tbody>\n",
       "</table>\n",
       "<p>100 rows × 1 columns</p>\n",
       "</div>"
      ],
      "text/plain": [
       "           x\n",
       "0   0.906451\n",
       "1   5.446117\n",
       "2   6.840238\n",
       "3   0.743644\n",
       "4   7.338518\n",
       "..       ...\n",
       "95  1.497647\n",
       "96  4.236658\n",
       "97  4.678540\n",
       "98  6.479197\n",
       "99  2.595297\n",
       "\n",
       "[100 rows x 1 columns]"
      ]
     },
     "execution_count": 3,
     "metadata": {},
     "output_type": "execute_result"
    }
   ],
   "source": [
    "data = pd.read_csv(Path_)\n",
    "data"
   ]
  },
  {
   "cell_type": "code",
   "execution_count": 4,
   "id": "f5aa13f6",
   "metadata": {},
   "outputs": [],
   "source": [
    "X = data.x"
   ]
  },
  {
   "cell_type": "code",
   "execution_count": 5,
   "id": "c1db5f2b",
   "metadata": {},
   "outputs": [],
   "source": [
    "def LogPrior(mu, sigma):\n",
    "    \n",
    "    if 3. <= mu <= 5. and 0.5 <= sigma <= 3.5:\n",
    "        return 0.\n",
    "    else:\n",
    "        return -np.inf"
   ]
  },
  {
   "cell_type": "code",
   "execution_count": 6,
   "id": "5d0ef915",
   "metadata": {},
   "outputs": [],
   "source": [
    "def Gauss(mu, sigma, x):\n",
    "    \n",
    "    return np.exp( -0.5*(x-mu)**2/sigma**2  )/np.sqrt(2*np.pi*sigma**2)"
   ]
  },
  {
   "cell_type": "code",
   "execution_count": 7,
   "id": "5bfbcea4",
   "metadata": {},
   "outputs": [],
   "source": [
    "def Likelihood(mu, sigma, x):\n",
    "    \n",
    "    return Gauss(mu,sigma,x)"
   ]
  },
  {
   "cell_type": "code",
   "execution_count": 8,
   "id": "66f3f3eb",
   "metadata": {},
   "outputs": [],
   "source": [
    "def JointLikelihood(mu, sigma, x):\n",
    "    return np.sum( np.log(Likelihood(mu, sigma, x)) )"
   ]
  },
  {
   "cell_type": "code",
   "execution_count": 9,
   "id": "e28e584b",
   "metadata": {},
   "outputs": [],
   "source": [
    "def LogPosterior(mu, sigma, x):\n",
    "    \n",
    "    LogP = LogPrior(mu, sigma)\n",
    "    \n",
    "    if not np.isfinite(LogP):\n",
    "        return -np.inf\n",
    "    else:\n",
    "        return JointLikelihood(mu, sigma, x) + LogP"
   ]
  },
  {
   "cell_type": "code",
   "execution_count": 10,
   "id": "d93bb0a5",
   "metadata": {},
   "outputs": [],
   "source": [
    "def Metropolis(mu, sigma, X, Posterior, NSteps=int(2e4 + 1), delta= 0.4):\n",
    "    \n",
    "    x = np.zeros((NSteps,2))\n",
    "    \n",
    "    # Prior\n",
    "    x[0, 0] = mu\n",
    "    x[0, 1] = sigma\n",
    "    \n",
    "    for i in tqdm(range(1,NSteps)):\n",
    "        \n",
    "        P0 = Posterior(x[i-1, 0], x[i-1, 1], X)\n",
    "        \n",
    "        muf = x[i-1, 0] + delta*2*(np.random.rand()-0.5)\n",
    "        sigmaf = x[i-1, 1] + delta*2*(np.random.rand()-0.5)\n",
    "        \n",
    "        P1 = Posterior(muf, sigmaf, X)\n",
    "        \n",
    "        if P1 == -np.inf:\n",
    "            alpha = P1\n",
    "        else:\n",
    "            alpha = np.minimum( 1, P1/P0 )\n",
    "        \n",
    "        g = np.random.rand()\n",
    "        \n",
    "        if alpha > g:\n",
    "            x[i, 0] = muf\n",
    "            x[i, 1] = sigmaf\n",
    "        else:\n",
    "            x[i,:] = x[i-1,:]\n",
    "            \n",
    "    return x[1000:,:]"
   ]
  },
  {
   "cell_type": "code",
   "execution_count": 11,
   "id": "3b9d3b30",
   "metadata": {},
   "outputs": [
    {
     "name": "stderr",
     "output_type": "stream",
     "text": [
      "100%|██████████| 20000/20000 [00:23<00:00, 851.68it/s]\n"
     ]
    }
   ],
   "source": [
    "muestreo = Metropolis(4.5, 1.5, X, LogPosterior)"
   ]
  },
  {
   "cell_type": "code",
   "execution_count": 12,
   "id": "181c0d2f",
   "metadata": {},
   "outputs": [
    {
     "data": {
      "text/plain": [
       "4.0048193843615545"
      ]
     },
     "execution_count": 12,
     "metadata": {},
     "output_type": "execute_result"
    }
   ],
   "source": [
    "mediana_mu = np.percentile(muestreo[:, 0], 50)\n",
    "mediana_mu"
   ]
  },
  {
   "cell_type": "code",
   "execution_count": 13,
   "id": "65c720d9",
   "metadata": {},
   "outputs": [
    {
     "data": {
      "text/plain": [
       "3.284482150257676"
      ]
     },
     "execution_count": 13,
     "metadata": {},
     "output_type": "execute_result"
    }
   ],
   "source": [
    "liminf_mu = np.percentile(muestreo[:, 0], 16)\n",
    "liminf_mu"
   ]
  },
  {
   "cell_type": "code",
   "execution_count": 14,
   "id": "44a34176",
   "metadata": {},
   "outputs": [
    {
     "data": {
      "text/plain": [
       "4.693522647396864"
      ]
     },
     "execution_count": 14,
     "metadata": {},
     "output_type": "execute_result"
    }
   ],
   "source": [
    "limsup_mu = np.percentile(muestreo[:, 0], 84)\n",
    "limsup_mu"
   ]
  },
  {
   "cell_type": "code",
   "execution_count": 15,
   "id": "629f9c88",
   "metadata": {},
   "outputs": [
    {
     "data": {
      "text/plain": [
       "1.7988304456414506"
      ]
     },
     "execution_count": 15,
     "metadata": {},
     "output_type": "execute_result"
    }
   ],
   "source": [
    "mediana_sigma= np.percentile(muestreo[:, 1], 50)\n",
    "mediana_sigma"
   ]
  },
  {
   "cell_type": "code",
   "execution_count": 16,
   "id": "12822ffa",
   "metadata": {},
   "outputs": [
    {
     "data": {
      "text/plain": [
       "0.7173030348234692"
      ]
     },
     "execution_count": 16,
     "metadata": {},
     "output_type": "execute_result"
    }
   ],
   "source": [
    "liminf_sigma = np.percentile(muestreo[:, 1], 16)\n",
    "liminf_sigma"
   ]
  },
  {
   "cell_type": "code",
   "execution_count": 17,
   "id": "cd46e222",
   "metadata": {},
   "outputs": [
    {
     "data": {
      "text/plain": [
       "3.0015386026673605"
      ]
     },
     "execution_count": 17,
     "metadata": {},
     "output_type": "execute_result"
    }
   ],
   "source": [
    "limsup_sigma = np.percentile(muestreo[:, 1], 84)\n",
    "limsup_sigma"
   ]
  },
  {
   "cell_type": "code",
   "execution_count": null,
   "id": "c6304c79",
   "metadata": {},
   "outputs": [],
   "source": []
  }
 ],
 "metadata": {
  "kernelspec": {
   "display_name": "Python 3 (ipykernel)",
   "language": "python",
   "name": "python3"
  },
  "language_info": {
   "codemirror_mode": {
    "name": "ipython",
    "version": 3
   },
   "file_extension": ".py",
   "mimetype": "text/x-python",
   "name": "python",
   "nbconvert_exporter": "python",
   "pygments_lexer": "ipython3",
   "version": "3.9.13"
  }
 },
 "nbformat": 4,
 "nbformat_minor": 5
}
